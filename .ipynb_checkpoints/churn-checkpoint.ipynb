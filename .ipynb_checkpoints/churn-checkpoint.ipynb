{
 "cells": [
  {
   "cell_type": "markdown",
   "metadata": {
    "id": "zgqxwahWX8gg"
   },
   "source": [
    "# Importation des outils necessaires"
   ]
  },
  {
   "cell_type": "code",
   "execution_count": 222,
   "metadata": {
    "id": "z6uF5bPZWN02"
   },
   "outputs": [],
   "source": [
    "import pandas as pd\n",
    "import numpy as np\n",
    "import seaborn as sns\n",
    "import matplotlib.pyplot as plt\n",
    "%matplotlib inline\n",
    "import ipywidgets as widgets\n",
    "from ipywidgets import interact, interactive, fixed, interact_manual\n",
    "from sklearn.preprocessing import MinMaxScaler\n",
    "from sklearn.model_selection import train_test_split\n",
    "from sklearn.utils import resample\n",
    "from sklearn.linear_model import LogisticRegression\n",
    "from sklearn.ensemble import RandomForestClassifier\n",
    "from sklearn.neural_network import MLPClassifier\n",
    "from sklearn.svm import SVC\n",
    "from sklearn.model_selection import GridSearchCV\n",
    "from sklearn.metrics import classification_report\n",
    "from sklearn.feature_selection import RFE\n",
    "import warnings\n",
    "warnings.simplefilter(action='ignore', category=FutureWarning)\n"
   ]
  },
  {
   "cell_type": "markdown",
   "metadata": {
    "id": "SNZxNxIiWFuH"
   },
   "source": [
    "# Importation des données"
   ]
  },
  {
   "cell_type": "code",
   "execution_count": 223,
   "metadata": {
    "id": "G2NaCCOtZA9A"
   },
   "outputs": [],
   "source": [
    "df = pd.read_csv('Telco-Customer-Churn.csv')"
   ]
  },
  {
   "cell_type": "code",
   "execution_count": 224,
   "metadata": {
    "colab": {
     "base_uri": "https://localhost:8080/",
     "height": 386
    },
    "id": "Q9HXhmv7ZFqr",
    "outputId": "8d25fa58-2ab9-4b69-a7f6-e970914c2e16"
   },
   "outputs": [
    {
     "data": {
      "text/html": [
       "<div>\n",
       "<style scoped>\n",
       "    .dataframe tbody tr th:only-of-type {\n",
       "        vertical-align: middle;\n",
       "    }\n",
       "\n",
       "    .dataframe tbody tr th {\n",
       "        vertical-align: top;\n",
       "    }\n",
       "\n",
       "    .dataframe thead th {\n",
       "        text-align: right;\n",
       "    }\n",
       "</style>\n",
       "<table border=\"1\" class=\"dataframe\">\n",
       "  <thead>\n",
       "    <tr style=\"text-align: right;\">\n",
       "      <th></th>\n",
       "      <th>customerID</th>\n",
       "      <th>gender</th>\n",
       "      <th>SeniorCitizen</th>\n",
       "      <th>Partner</th>\n",
       "      <th>Dependents</th>\n",
       "      <th>tenure</th>\n",
       "      <th>PhoneService</th>\n",
       "      <th>MultipleLines</th>\n",
       "      <th>InternetService</th>\n",
       "      <th>OnlineSecurity</th>\n",
       "      <th>...</th>\n",
       "      <th>DeviceProtection</th>\n",
       "      <th>TechSupport</th>\n",
       "      <th>StreamingTV</th>\n",
       "      <th>StreamingMovies</th>\n",
       "      <th>Contract</th>\n",
       "      <th>PaperlessBilling</th>\n",
       "      <th>PaymentMethod</th>\n",
       "      <th>MonthlyCharges</th>\n",
       "      <th>TotalCharges</th>\n",
       "      <th>Churn</th>\n",
       "    </tr>\n",
       "  </thead>\n",
       "  <tbody>\n",
       "    <tr>\n",
       "      <th>0</th>\n",
       "      <td>7590-VHVEG</td>\n",
       "      <td>Female</td>\n",
       "      <td>0</td>\n",
       "      <td>Yes</td>\n",
       "      <td>No</td>\n",
       "      <td>1</td>\n",
       "      <td>No</td>\n",
       "      <td>No phone service</td>\n",
       "      <td>DSL</td>\n",
       "      <td>No</td>\n",
       "      <td>...</td>\n",
       "      <td>No</td>\n",
       "      <td>No</td>\n",
       "      <td>No</td>\n",
       "      <td>No</td>\n",
       "      <td>Month-to-month</td>\n",
       "      <td>Yes</td>\n",
       "      <td>Electronic check</td>\n",
       "      <td>29.85</td>\n",
       "      <td>29.85</td>\n",
       "      <td>No</td>\n",
       "    </tr>\n",
       "    <tr>\n",
       "      <th>1</th>\n",
       "      <td>5575-GNVDE</td>\n",
       "      <td>Male</td>\n",
       "      <td>0</td>\n",
       "      <td>No</td>\n",
       "      <td>No</td>\n",
       "      <td>34</td>\n",
       "      <td>Yes</td>\n",
       "      <td>No</td>\n",
       "      <td>DSL</td>\n",
       "      <td>Yes</td>\n",
       "      <td>...</td>\n",
       "      <td>Yes</td>\n",
       "      <td>No</td>\n",
       "      <td>No</td>\n",
       "      <td>No</td>\n",
       "      <td>One year</td>\n",
       "      <td>No</td>\n",
       "      <td>Mailed check</td>\n",
       "      <td>56.95</td>\n",
       "      <td>1889.5</td>\n",
       "      <td>No</td>\n",
       "    </tr>\n",
       "    <tr>\n",
       "      <th>2</th>\n",
       "      <td>3668-QPYBK</td>\n",
       "      <td>Male</td>\n",
       "      <td>0</td>\n",
       "      <td>No</td>\n",
       "      <td>No</td>\n",
       "      <td>2</td>\n",
       "      <td>Yes</td>\n",
       "      <td>No</td>\n",
       "      <td>DSL</td>\n",
       "      <td>Yes</td>\n",
       "      <td>...</td>\n",
       "      <td>No</td>\n",
       "      <td>No</td>\n",
       "      <td>No</td>\n",
       "      <td>No</td>\n",
       "      <td>Month-to-month</td>\n",
       "      <td>Yes</td>\n",
       "      <td>Mailed check</td>\n",
       "      <td>53.85</td>\n",
       "      <td>108.15</td>\n",
       "      <td>Yes</td>\n",
       "    </tr>\n",
       "    <tr>\n",
       "      <th>3</th>\n",
       "      <td>7795-CFOCW</td>\n",
       "      <td>Male</td>\n",
       "      <td>0</td>\n",
       "      <td>No</td>\n",
       "      <td>No</td>\n",
       "      <td>45</td>\n",
       "      <td>No</td>\n",
       "      <td>No phone service</td>\n",
       "      <td>DSL</td>\n",
       "      <td>Yes</td>\n",
       "      <td>...</td>\n",
       "      <td>Yes</td>\n",
       "      <td>Yes</td>\n",
       "      <td>No</td>\n",
       "      <td>No</td>\n",
       "      <td>One year</td>\n",
       "      <td>No</td>\n",
       "      <td>Bank transfer (automatic)</td>\n",
       "      <td>42.30</td>\n",
       "      <td>1840.75</td>\n",
       "      <td>No</td>\n",
       "    </tr>\n",
       "    <tr>\n",
       "      <th>4</th>\n",
       "      <td>9237-HQITU</td>\n",
       "      <td>Female</td>\n",
       "      <td>0</td>\n",
       "      <td>No</td>\n",
       "      <td>No</td>\n",
       "      <td>2</td>\n",
       "      <td>Yes</td>\n",
       "      <td>No</td>\n",
       "      <td>Fiber optic</td>\n",
       "      <td>No</td>\n",
       "      <td>...</td>\n",
       "      <td>No</td>\n",
       "      <td>No</td>\n",
       "      <td>No</td>\n",
       "      <td>No</td>\n",
       "      <td>Month-to-month</td>\n",
       "      <td>Yes</td>\n",
       "      <td>Electronic check</td>\n",
       "      <td>70.70</td>\n",
       "      <td>151.65</td>\n",
       "      <td>Yes</td>\n",
       "    </tr>\n",
       "  </tbody>\n",
       "</table>\n",
       "<p>5 rows × 21 columns</p>\n",
       "</div>"
      ],
      "text/plain": [
       "   customerID  gender  SeniorCitizen Partner Dependents  tenure PhoneService  \\\n",
       "0  7590-VHVEG  Female              0     Yes         No       1           No   \n",
       "1  5575-GNVDE    Male              0      No         No      34          Yes   \n",
       "2  3668-QPYBK    Male              0      No         No       2          Yes   \n",
       "3  7795-CFOCW    Male              0      No         No      45           No   \n",
       "4  9237-HQITU  Female              0      No         No       2          Yes   \n",
       "\n",
       "      MultipleLines InternetService OnlineSecurity  ... DeviceProtection  \\\n",
       "0  No phone service             DSL             No  ...               No   \n",
       "1                No             DSL            Yes  ...              Yes   \n",
       "2                No             DSL            Yes  ...               No   \n",
       "3  No phone service             DSL            Yes  ...              Yes   \n",
       "4                No     Fiber optic             No  ...               No   \n",
       "\n",
       "  TechSupport StreamingTV StreamingMovies        Contract PaperlessBilling  \\\n",
       "0          No          No              No  Month-to-month              Yes   \n",
       "1          No          No              No        One year               No   \n",
       "2          No          No              No  Month-to-month              Yes   \n",
       "3         Yes          No              No        One year               No   \n",
       "4          No          No              No  Month-to-month              Yes   \n",
       "\n",
       "               PaymentMethod MonthlyCharges  TotalCharges Churn  \n",
       "0           Electronic check          29.85         29.85    No  \n",
       "1               Mailed check          56.95        1889.5    No  \n",
       "2               Mailed check          53.85        108.15   Yes  \n",
       "3  Bank transfer (automatic)          42.30       1840.75    No  \n",
       "4           Electronic check          70.70        151.65   Yes  \n",
       "\n",
       "[5 rows x 21 columns]"
      ]
     },
     "execution_count": 224,
     "metadata": {},
     "output_type": "execute_result"
    }
   ],
   "source": [
    "df.head()"
   ]
  },
  {
   "cell_type": "markdown",
   "metadata": {
    "id": "x9Ta3c8PZH77"
   },
   "source": [
    "# Information sur l'ensemble des données"
   ]
  },
  {
   "cell_type": "code",
   "execution_count": 225,
   "metadata": {
    "colab": {
     "base_uri": "https://localhost:8080/"
    },
    "id": "PxWHH0cxZTi3",
    "outputId": "670d2e4f-77da-4e9f-aeaa-a03b9dac046c",
    "scrolled": true
   },
   "outputs": [
    {
     "name": "stdout",
     "output_type": "stream",
     "text": [
      "<class 'pandas.core.frame.DataFrame'>\n",
      "RangeIndex: 7043 entries, 0 to 7042\n",
      "Data columns (total 21 columns):\n",
      " #   Column            Non-Null Count  Dtype  \n",
      "---  ------            --------------  -----  \n",
      " 0   customerID        7043 non-null   object \n",
      " 1   gender            7043 non-null   object \n",
      " 2   SeniorCitizen     7043 non-null   int64  \n",
      " 3   Partner           7043 non-null   object \n",
      " 4   Dependents        7043 non-null   object \n",
      " 5   tenure            7043 non-null   int64  \n",
      " 6   PhoneService      7043 non-null   object \n",
      " 7   MultipleLines     7043 non-null   object \n",
      " 8   InternetService   7043 non-null   object \n",
      " 9   OnlineSecurity    7043 non-null   object \n",
      " 10  OnlineBackup      7043 non-null   object \n",
      " 11  DeviceProtection  7043 non-null   object \n",
      " 12  TechSupport       7043 non-null   object \n",
      " 13  StreamingTV       7043 non-null   object \n",
      " 14  StreamingMovies   7043 non-null   object \n",
      " 15  Contract          7043 non-null   object \n",
      " 16  PaperlessBilling  7043 non-null   object \n",
      " 17  PaymentMethod     7043 non-null   object \n",
      " 18  MonthlyCharges    7043 non-null   float64\n",
      " 19  TotalCharges      7043 non-null   object \n",
      " 20  Churn             7043 non-null   object \n",
      "dtypes: float64(1), int64(2), object(18)\n",
      "memory usage: 1.1+ MB\n"
     ]
    }
   ],
   "source": [
    "df.info()"
   ]
  },
  {
   "cell_type": "markdown",
   "metadata": {},
   "source": [
    "Apparemment, il n'y a pas de valeurs manquantes. Mais les valeurs manquantes peuvent être cachées. L'analyse exploratoire des données nous donnera beaucoup plus d'informations sur les données."
   ]
  },
  {
   "cell_type": "markdown",
   "metadata": {
    "id": "PhZ7zyfbZU-f"
   },
   "source": [
    "La variable cible est la variable Churn qui prend deux valeurs : Yes (le client s'est désabonné) et No (le client ne s'est pas désabonné)."
   ]
  },
  {
   "cell_type": "markdown",
   "metadata": {
    "id": "iq5p6pw1aaa4"
   },
   "source": [
    "# Nombre de valeurs uniques par colonnes"
   ]
  },
  {
   "cell_type": "code",
   "execution_count": 226,
   "metadata": {
    "colab": {
     "base_uri": "https://localhost:8080/"
    },
    "id": "Rro2_xUqbRZa",
    "outputId": "c8684bf0-6721-49d8-92e3-04351e90d0f1"
   },
   "outputs": [
    {
     "data": {
      "text/plain": [
       "customerID          7043\n",
       "gender                 2\n",
       "SeniorCitizen          2\n",
       "Partner                2\n",
       "Dependents             2\n",
       "tenure                73\n",
       "PhoneService           2\n",
       "MultipleLines          3\n",
       "InternetService        3\n",
       "OnlineSecurity         3\n",
       "OnlineBackup           3\n",
       "DeviceProtection       3\n",
       "TechSupport            3\n",
       "StreamingTV            3\n",
       "StreamingMovies        3\n",
       "Contract               3\n",
       "PaperlessBilling       2\n",
       "PaymentMethod          4\n",
       "MonthlyCharges      1585\n",
       "TotalCharges        6531\n",
       "Churn                  2\n",
       "dtype: int64"
      ]
     },
     "execution_count": 226,
     "metadata": {},
     "output_type": "execute_result"
    }
   ],
   "source": [
    "df.nunique()"
   ]
  },
  {
   "cell_type": "code",
   "execution_count": 227,
   "metadata": {
    "colab": {
     "base_uri": "https://localhost:8080/"
    },
    "id": "ih_PLO4qdnxW",
    "outputId": "38205ec2-1762-486d-bb71-0e36e55b2e81"
   },
   "outputs": [
    {
     "data": {
      "text/plain": [
       "7043"
      ]
     },
     "execution_count": 227,
     "metadata": {},
     "output_type": "execute_result"
    }
   ],
   "source": [
    "df['customerID'].nunique()"
   ]
  },
  {
   "cell_type": "code",
   "execution_count": 228,
   "metadata": {
    "colab": {
     "base_uri": "https://localhost:8080/"
    },
    "id": "Fs8G0kEGd2Hp",
    "outputId": "6af41856-b09e-4091-bab3-bea7a49da0e5"
   },
   "outputs": [
    {
     "data": {
      "text/plain": [
       "(7043, 21)"
      ]
     },
     "execution_count": 228,
     "metadata": {},
     "output_type": "execute_result"
    }
   ],
   "source": [
    "df.shape"
   ]
  },
  {
   "cell_type": "markdown",
   "metadata": {
    "id": "KCKHnXLXbU17"
   },
   "source": [
    "Etant donné que la variable customerID (identifiant du client) a 7043 valeurs distinctes et que la dataframe contient au total 7043 lignes, alors nous sommes convaincus que chaque liane de l'ensemble des données représente un unique client"
   ]
  },
  {
   "cell_type": "markdown",
   "metadata": {
    "id": "QJ0-221cehSd"
   },
   "source": [
    "# Analyse exploiratoire des données"
   ]
  },
  {
   "cell_type": "code",
   "execution_count": 229,
   "metadata": {
    "colab": {
     "base_uri": "https://localhost:8080/"
    },
    "id": "ExkqjZoxfCo4",
    "outputId": "4125c8ee-f437-443d-89d6-468a34e77ce8"
   },
   "outputs": [
    {
     "data": {
      "text/plain": [
       "['gender',\n",
       " 'SeniorCitizen',\n",
       " 'Partner',\n",
       " 'Dependents',\n",
       " 'PhoneService',\n",
       " 'MultipleLines',\n",
       " 'InternetService',\n",
       " 'OnlineSecurity',\n",
       " 'OnlineBackup',\n",
       " 'DeviceProtection',\n",
       " 'TechSupport',\n",
       " 'StreamingTV',\n",
       " 'StreamingMovies',\n",
       " 'Contract',\n",
       " 'PaperlessBilling',\n",
       " 'PaymentMethod',\n",
       " 'Churn']"
      ]
     },
     "execution_count": 229,
     "metadata": {},
     "output_type": "execute_result"
    }
   ],
   "source": [
    "# Variables categorielles\n",
    "categorical_columns = df.nunique()[df.nunique() < 5].keys().to_list()\n",
    "categorical_columns"
   ]
  },
  {
   "cell_type": "code",
   "execution_count": 230,
   "metadata": {
    "id": "6aQm04y8g-xm"
   },
   "outputs": [],
   "source": [
    "# Création d'une fonction de construction de graphiques à barres et de manière interactive\n",
    "def bar_plot(a):\n",
    "  df[a].value_counts(normalize= True).plot(kind = 'bar')\n",
    "  plt.ylabel('proportion')\n",
    "  plt.title('Distribution of ' + str(a))\n",
    "  return plt.show()"
   ]
  },
  {
   "cell_type": "code",
   "execution_count": 231,
   "metadata": {
    "colab": {
     "base_uri": "https://localhost:8080/",
     "height": 1000,
     "referenced_widgets": [
      "2f37cb9440364df9a46541be225cd838",
      "a9a794850e134105bb743e6392834939",
      "5eb006de3d994dcbaeabbb5fd4dd2a02",
      "6ae8688044344e208b6f2cfcc6de7533",
      "9203d12d32274adebfe6a19cac2b0eda",
      "8152bac0cea2451a96a89835e73d4907",
      "e7f9d237ae0647079ec4d4789209029c"
     ]
    },
    "id": "v1kvPvQkm8M-",
    "outputId": "bb6cc40d-0fc3-4fdd-c673-ccb9f250ac68"
   },
   "outputs": [
    {
     "data": {
      "application/vnd.jupyter.widget-view+json": {
       "model_id": "7e4ed44d71cd4d1781d12023e6ecb3cd",
       "version_major": 2,
       "version_minor": 0
      },
      "text/plain": [
       "interactive(children=(Dropdown(description='a', options=('gender', 'SeniorCitizen', 'Partner', 'Dependents', '…"
      ]
     },
     "metadata": {},
     "output_type": "display_data"
    }
   ],
   "source": [
    "# Interact\n",
    "interact(bar_plot, a = categorical_columns);"
   ]
  },
  {
   "cell_type": "markdown",
   "metadata": {
    "id": "NlhCEBpOm9XP"
   },
   "source": [
    "Vous pouvez interagir avec le notebook en sélectionnant la variable catégorielle qui vous intéresse afin de visualiser sa distribution à travers le graphique à barre. Voici quelques informations importantes qu'on peut tirer des graphiques ci-dessus :\n",
    "Il y a plus de clients qui ne se sont pas désabonnés (plus de 70%) que de clients qui se sont désabonné (moins de 30%). Donc nous avons un problème de déséquilibre qu'il faudra absolument résoudre car cela peut impacter négativement la performance des modèles de classification que nous allons construire.\n",
    "la distribution des données entre les différents sexes est à peu près également répartie.\n",
    "\n",
    "Le nombre de clients qui sont des personnes âgées (moins de 20%) est bien inférieur à celui des clients jeunes (plus de 80%).\n",
    "La variable Partner indique si le client a un partenaire (Yes) ou pas (No). Les deux catégories ont pratiquement la même proportion.\n",
    "Répétons le même processus cette fois-ci pour les variables numériques."
   ]
  },
  {
   "cell_type": "code",
   "execution_count": 232,
   "metadata": {},
   "outputs": [
    {
     "data": {
      "text/plain": [
       "4466     324.3\n",
       "3411    5549.4\n",
       "62        2962\n",
       "3179    561.15\n",
       "753           \n",
       "6889    244.45\n",
       "6872    5224.5\n",
       "1501    243.65\n",
       "6937     961.4\n",
       "6513     867.1\n",
       "Name: TotalCharges, dtype: object"
      ]
     },
     "execution_count": 232,
     "metadata": {},
     "output_type": "execute_result"
    }
   ],
   "source": [
    "# Echantionnement aléatoire de la variable 'TotalCharges'\n",
    "df['TotalCharges'].sample(10)"
   ]
  },
  {
   "cell_type": "markdown",
   "metadata": {},
   "source": [
    "Apparement c'est à cause de la présence d'espace au niveau de la variable TotalCharges que Pandas la considère comme une variable avec des valeurs de type object (chaîne de caractère).\n",
    "Donc nous allons remplacer ces espaces par des NaN (Not a Number) et transformer le type de ses valeurs en float (décimal)."
   ]
  },
  {
   "cell_type": "code",
   "execution_count": 233,
   "metadata": {},
   "outputs": [],
   "source": [
    "# Variables quantitatives\n",
    "numerical_columns = ['tenure', 'MonthlyCharges', 'TotalCharges']"
   ]
  },
  {
   "cell_type": "code",
   "execution_count": 234,
   "metadata": {},
   "outputs": [],
   "source": [
    "# Creation d'une fonction de construction d'histogrammes et de maniere interactive\n",
    "def hist_plot(b):\n",
    "    sns.distplot(df[b], kde = False)\n",
    "    plt.title('Histogram of ' + str(b))\n",
    "    return plt.show()\n",
    "\n",
    "# Conversion du type des valeurs de la variable 'TotalCharges' en float (decimal)\n",
    "df['TotalCharges'] = df['TotalCharges'].replace(' ', np.nan).astype(float)"
   ]
  },
  {
   "cell_type": "code",
   "execution_count": 235,
   "metadata": {},
   "outputs": [
    {
     "data": {
      "application/vnd.jupyter.widget-view+json": {
       "model_id": "4250b36808f844d6bd4b0c6b598c6326",
       "version_major": 2,
       "version_minor": 0
      },
      "text/plain": [
       "interactive(children=(Dropdown(description='b', options=('tenure', 'MonthlyCharges', 'TotalCharges'), value='t…"
      ]
     },
     "metadata": {},
     "output_type": "display_data"
    }
   ],
   "source": [
    "# Interact\n",
    "interact(hist_plot, b = numerical_columns);"
   ]
  },
  {
   "cell_type": "code",
   "execution_count": 236,
   "metadata": {},
   "outputs": [
    {
     "data": {
      "text/plain": [
       "0.961642499724251"
      ]
     },
     "execution_count": 236,
     "metadata": {},
     "output_type": "execute_result"
    }
   ],
   "source": [
    "# Coefficient d'asymetrie de la variable 'TotalCharges'\n",
    "df['TotalCharges'].skew()"
   ]
  },
  {
   "cell_type": "code",
   "execution_count": 237,
   "metadata": {},
   "outputs": [],
   "source": [
    "# Creation d'une fonction de construction de boites à moustaches et de maniere interactive\n",
    "def box_plot(b):\n",
    "    sns.boxplot(y = df[b])\n",
    "    plt.title('Boxplot of ' + str(b))\n",
    "    return plt.show()"
   ]
  },
  {
   "cell_type": "code",
   "execution_count": 238,
   "metadata": {},
   "outputs": [
    {
     "data": {
      "application/vnd.jupyter.widget-view+json": {
       "model_id": "8d0a3db173024a0980191c57f159a9f8",
       "version_major": 2,
       "version_minor": 0
      },
      "text/plain": [
       "interactive(children=(Dropdown(description='b', options=('tenure', 'MonthlyCharges', 'TotalCharges'), value='t…"
      ]
     },
     "metadata": {},
     "output_type": "display_data"
    }
   ],
   "source": [
    "#Interact\n",
    "interact(box_plot, b = numerical_columns);"
   ]
  },
  {
   "cell_type": "markdown",
   "metadata": {},
   "source": [
    "Nous remarquons que ces variables contines bien que ne présentant pas de valeurs aberrantes (outliers) sont très asymétriques ce qui peut causer des erreurs au niveau des modèles que nous allons construire.\n",
    "Nous pouvons appliquer des fonctions de transformation à ces variables afin de les rendre moins asymétrique.\n",
    "Nous avons une compréhension de la distribution de chaque variable dans notre jeu de données.\n",
    "Maintenant, faisons des analyse bivariées."
   ]
  },
  {
   "cell_type": "markdown",
   "metadata": {},
   "source": [
    "## Analyse multivariée des données"
   ]
  },
  {
   "cell_type": "code",
   "execution_count": 239,
   "metadata": {},
   "outputs": [
    {
     "data": {
      "image/png": "[encoded data removed]",
      "text/plain": [
       "<Figure size 432x288 with 1 Axes>"
      ]
     },
     "metadata": {
      "needs_background": "light"
     },
     "output_type": "display_data"
    }
   ],
   "source": [
    "# TotalCharges vs Churn\n",
    "#sns.boxplot(x=df['Churn'], y = df['TotalCharges'])\n",
    "sns.boxplot(x='Churn', y = 'TotalCharges', data = df)\n",
    "plt.xlabel('Desabonnement')\n",
    "plt.ylabel('Facture totale')\n",
    "plt.title('Montant total facturé au client')\n",
    "plt.show()"
   ]
  },
  {
   "cell_type": "code",
   "execution_count": 240,
   "metadata": {},
   "outputs": [
    {
     "data": {
      "image/png": "[encoded data removed]",
      "text/plain": [
       "<Figure size 432x288 with 1 Axes>"
      ]
     },
     "metadata": {
      "needs_background": "light"
     },
     "output_type": "display_data"
    }
   ],
   "source": [
    "# MonthlyCharges vs Churn\n",
    "sns.boxplot(x='Churn', y = 'MonthlyCharges', data = df)\n",
    "plt.xlabel('Desabonnement')\n",
    "plt.ylabel('Facture mensuelle')\n",
    "plt.title('Montant facturé mensuellement au client')\n",
    "plt.show()"
   ]
  },
  {
   "cell_type": "markdown",
   "metadata": {},
   "source": [
    "Le montant total facturé aux clients qui ont résilié leur contrat est inférieur au montant total facturé aux clients qui ne l'ont pas fait. Mais, les clients qui se sont désabonnés sont plus facturés mensuellement que les clients qui se se sont pas désabonnés. Cette information est très importante pour l'entreprise car le montant facturé mensuellement peut être un facteur important qui détermine si un client va se désabonner ou non."
   ]
  },
  {
   "cell_type": "code",
   "execution_count": 241,
   "metadata": {},
   "outputs": [
    {
     "data": {
      "image/png": "[encoded data removed]",
      "text/plain": [
       "<Figure size 432x288 with 1 Axes>"
      ]
     },
     "metadata": {
      "needs_background": "light"
     },
     "output_type": "display_data"
    }
   ],
   "source": [
    "# tenure vs Churn\n",
    "sns.boxplot(x='Churn', y = 'tenure', data = df)\n",
    "plt.xlabel('Desabonnement')\n",
    "plt.ylabel('Mois')\n",
    "plt.title(\"Nombre de mois pendant lesquels le client est resté fidele à l'entreprise\")\n",
    "plt.show()"
   ]
  },
  {
   "cell_type": "code",
   "execution_count": 242,
   "metadata": {},
   "outputs": [
    {
     "data": {
      "image/png": "[encoded data removed]",
      "text/plain": [
       "<Figure size 432x288 with 1 Axes>"
      ]
     },
     "metadata": {
      "needs_background": "light"
     },
     "output_type": "display_data"
    }
   ],
   "source": [
    "# MonthlyCharges vs Churn by SeniorCitizen\n",
    "sns.boxplot(x='Churn', y = 'MonthlyCharges', data = df, hue = 'SeniorCitizen');"
   ]
  },
  {
   "cell_type": "markdown",
   "metadata": {},
   "source": [
    "Il semble que les personnes âgées soient beaucoup plus facturées mensuellement que les jeunes. Malgré cela, ils restent plus fidèles à l'entreprise que les jeunes."
   ]
  },
  {
   "cell_type": "code",
   "execution_count": 243,
   "metadata": {},
   "outputs": [
    {
     "data": {
      "image/png": "[encoded data removed]",
      "text/plain": [
       "<Figure size 432x288 with 1 Axes>"
      ]
     },
     "metadata": {
      "needs_background": "light"
     },
     "output_type": "display_data"
    }
   ],
   "source": [
    "# MonthlyCharges vs Churn by Dependents\n",
    "sns.boxplot(x='Churn', y = 'MonthlyCharges', data = df, hue = 'Dependents');"
   ]
  },
  {
   "cell_type": "markdown",
   "metadata": {},
   "source": [
    "Il existe de nombreuses autres analyses que nous pouvons faire.\n",
    "Passons au résumé statistique."
   ]
  },
  {
   "cell_type": "code",
   "execution_count": 244,
   "metadata": {},
   "outputs": [
    {
     "data": {
      "text/html": [
       "<div>\n",
       "<style scoped>\n",
       "    .dataframe tbody tr th:only-of-type {\n",
       "        vertical-align: middle;\n",
       "    }\n",
       "\n",
       "    .dataframe tbody tr th {\n",
       "        vertical-align: top;\n",
       "    }\n",
       "\n",
       "    .dataframe thead th {\n",
       "        text-align: right;\n",
       "    }\n",
       "</style>\n",
       "<table border=\"1\" class=\"dataframe\">\n",
       "  <thead>\n",
       "    <tr style=\"text-align: right;\">\n",
       "      <th></th>\n",
       "      <th>count</th>\n",
       "      <th>mean</th>\n",
       "      <th>std</th>\n",
       "      <th>min</th>\n",
       "      <th>25%</th>\n",
       "      <th>50%</th>\n",
       "      <th>75%</th>\n",
       "      <th>max</th>\n",
       "    </tr>\n",
       "  </thead>\n",
       "  <tbody>\n",
       "    <tr>\n",
       "      <th>SeniorCitizen</th>\n",
       "      <td>7043.0</td>\n",
       "      <td>0.162147</td>\n",
       "      <td>0.368612</td>\n",
       "      <td>0.00</td>\n",
       "      <td>0.00</td>\n",
       "      <td>0.000</td>\n",
       "      <td>0.0000</td>\n",
       "      <td>1.00</td>\n",
       "    </tr>\n",
       "    <tr>\n",
       "      <th>tenure</th>\n",
       "      <td>7043.0</td>\n",
       "      <td>32.371149</td>\n",
       "      <td>24.559481</td>\n",
       "      <td>0.00</td>\n",
       "      <td>9.00</td>\n",
       "      <td>29.000</td>\n",
       "      <td>55.0000</td>\n",
       "      <td>72.00</td>\n",
       "    </tr>\n",
       "    <tr>\n",
       "      <th>MonthlyCharges</th>\n",
       "      <td>7043.0</td>\n",
       "      <td>64.761692</td>\n",
       "      <td>30.090047</td>\n",
       "      <td>18.25</td>\n",
       "      <td>35.50</td>\n",
       "      <td>70.350</td>\n",
       "      <td>89.8500</td>\n",
       "      <td>118.75</td>\n",
       "    </tr>\n",
       "    <tr>\n",
       "      <th>TotalCharges</th>\n",
       "      <td>7032.0</td>\n",
       "      <td>2283.300441</td>\n",
       "      <td>2266.771362</td>\n",
       "      <td>18.80</td>\n",
       "      <td>401.45</td>\n",
       "      <td>1397.475</td>\n",
       "      <td>3794.7375</td>\n",
       "      <td>8684.80</td>\n",
       "    </tr>\n",
       "  </tbody>\n",
       "</table>\n",
       "</div>"
      ],
      "text/plain": [
       "                 count         mean          std    min     25%       50%  \\\n",
       "SeniorCitizen   7043.0     0.162147     0.368612   0.00    0.00     0.000   \n",
       "tenure          7043.0    32.371149    24.559481   0.00    9.00    29.000   \n",
       "MonthlyCharges  7043.0    64.761692    30.090047  18.25   35.50    70.350   \n",
       "TotalCharges    7032.0  2283.300441  2266.771362  18.80  401.45  1397.475   \n",
       "\n",
       "                      75%      max  \n",
       "SeniorCitizen      0.0000     1.00  \n",
       "tenure            55.0000    72.00  \n",
       "MonthlyCharges    89.8500   118.75  \n",
       "TotalCharges    3794.7375  8684.80  "
      ]
     },
     "execution_count": 244,
     "metadata": {},
     "output_type": "execute_result"
    }
   ],
   "source": [
    "# Résumé statistique\n",
    "df.describe().T"
   ]
  },
  {
   "cell_type": "markdown",
   "metadata": {},
   "source": [
    "Comme vous l'avez remarqué, les trois variables quantitatives (tenure, MonthlyCharges, et TotalCharges) ont différentes échelles. tenure varie entre 0 et 72 tandis que MonthlyCharges varie entre 18.25 et 118.75 et Tota/Charges varie entre 18.8 et 8684.8. De nombreux modèles de Machine et de Deep Learning fonctionnent mieux avec des variables standardisées ou normalisées.\n",
    "Nous traiterons de la standardisation des données dans la section de prétraitement des données."
   ]
  },
  {
   "cell_type": "markdown",
   "metadata": {},
   "source": [
    "## Prétraitement des données"
   ]
  },
  {
   "cell_type": "code",
   "execution_count": 245,
   "metadata": {
    "scrolled": true
   },
   "outputs": [
    {
     "data": {
      "text/plain": [
       "customerID           0\n",
       "gender               0\n",
       "SeniorCitizen        0\n",
       "Partner              0\n",
       "Dependents           0\n",
       "tenure               0\n",
       "PhoneService         0\n",
       "MultipleLines        0\n",
       "InternetService      0\n",
       "OnlineSecurity       0\n",
       "OnlineBackup         0\n",
       "DeviceProtection     0\n",
       "TechSupport          0\n",
       "StreamingTV          0\n",
       "StreamingMovies      0\n",
       "Contract             0\n",
       "PaperlessBilling     0\n",
       "PaymentMethod        0\n",
       "MonthlyCharges       0\n",
       "TotalCharges        11\n",
       "Churn                0\n",
       "dtype: int64"
      ]
     },
     "execution_count": 245,
     "metadata": {},
     "output_type": "execute_result"
    }
   ],
   "source": [
    "# gestion des valeurs manquantes\n",
    "data = df.copy()\n",
    "data.isna().sum()"
   ]
  },
  {
   "cell_type": "code",
   "execution_count": 246,
   "metadata": {},
   "outputs": [
    {
     "data": {
      "text/plain": [
       "0.001561834445548772"
      ]
     },
     "execution_count": 246,
     "metadata": {},
     "output_type": "execute_result"
    }
   ],
   "source": [
    "11 /7043"
   ]
  },
  {
   "cell_type": "code",
   "execution_count": 247,
   "metadata": {
    "scrolled": true
   },
   "outputs": [
    {
     "data": {
      "text/plain": [
       "customerID          0\n",
       "gender              0\n",
       "SeniorCitizen       0\n",
       "Partner             0\n",
       "Dependents          0\n",
       "tenure              0\n",
       "PhoneService        0\n",
       "MultipleLines       0\n",
       "InternetService     0\n",
       "OnlineSecurity      0\n",
       "OnlineBackup        0\n",
       "DeviceProtection    0\n",
       "TechSupport         0\n",
       "StreamingTV         0\n",
       "StreamingMovies     0\n",
       "Contract            0\n",
       "PaperlessBilling    0\n",
       "PaymentMethod       0\n",
       "MonthlyCharges      0\n",
       "TotalCharges        0\n",
       "Churn               0\n",
       "dtype: int64"
      ]
     },
     "execution_count": 247,
     "metadata": {},
     "output_type": "execute_result"
    }
   ],
   "source": [
    "# Suppression des valeurs manquantes\n",
    "data.dropna(inplace = True)\n",
    "data.isna().sum()"
   ]
  },
  {
   "cell_type": "markdown",
   "metadata": {},
   "source": [
    "La deuxième chose que nous allons faire pour préparer les données pour la modélisation est l'encodage des variables catégorielles."
   ]
  },
  {
   "cell_type": "code",
   "execution_count": 248,
   "metadata": {},
   "outputs": [
    {
     "data": {
      "text/plain": [
       "(7032, 21)"
      ]
     },
     "execution_count": 248,
     "metadata": {},
     "output_type": "execute_result"
    }
   ],
   "source": [
    "data.shape"
   ]
  },
  {
   "cell_type": "code",
   "execution_count": 249,
   "metadata": {},
   "outputs": [
    {
     "data": {
      "text/html": [
       "<div>\n",
       "<style scoped>\n",
       "    .dataframe tbody tr th:only-of-type {\n",
       "        vertical-align: middle;\n",
       "    }\n",
       "\n",
       "    .dataframe tbody tr th {\n",
       "        vertical-align: top;\n",
       "    }\n",
       "\n",
       "    .dataframe thead th {\n",
       "        text-align: right;\n",
       "    }\n",
       "</style>\n",
       "<table border=\"1\" class=\"dataframe\">\n",
       "  <thead>\n",
       "    <tr style=\"text-align: right;\">\n",
       "      <th></th>\n",
       "      <th>customerID</th>\n",
       "      <th>gender</th>\n",
       "      <th>SeniorCitizen</th>\n",
       "      <th>Partner</th>\n",
       "      <th>Dependents</th>\n",
       "      <th>tenure</th>\n",
       "      <th>PhoneService</th>\n",
       "      <th>MultipleLines</th>\n",
       "      <th>InternetService</th>\n",
       "      <th>OnlineSecurity</th>\n",
       "      <th>...</th>\n",
       "      <th>DeviceProtection</th>\n",
       "      <th>TechSupport</th>\n",
       "      <th>StreamingTV</th>\n",
       "      <th>StreamingMovies</th>\n",
       "      <th>Contract</th>\n",
       "      <th>PaperlessBilling</th>\n",
       "      <th>PaymentMethod</th>\n",
       "      <th>MonthlyCharges</th>\n",
       "      <th>TotalCharges</th>\n",
       "      <th>Churn</th>\n",
       "    </tr>\n",
       "  </thead>\n",
       "  <tbody>\n",
       "    <tr>\n",
       "      <th>0</th>\n",
       "      <td>7590-VHVEG</td>\n",
       "      <td>Female</td>\n",
       "      <td>0</td>\n",
       "      <td>Yes</td>\n",
       "      <td>No</td>\n",
       "      <td>1</td>\n",
       "      <td>No</td>\n",
       "      <td>No phone service</td>\n",
       "      <td>DSL</td>\n",
       "      <td>No</td>\n",
       "      <td>...</td>\n",
       "      <td>No</td>\n",
       "      <td>No</td>\n",
       "      <td>No</td>\n",
       "      <td>No</td>\n",
       "      <td>Month-to-month</td>\n",
       "      <td>Yes</td>\n",
       "      <td>Electronic check</td>\n",
       "      <td>29.85</td>\n",
       "      <td>29.85</td>\n",
       "      <td>No</td>\n",
       "    </tr>\n",
       "    <tr>\n",
       "      <th>1</th>\n",
       "      <td>5575-GNVDE</td>\n",
       "      <td>Male</td>\n",
       "      <td>0</td>\n",
       "      <td>No</td>\n",
       "      <td>No</td>\n",
       "      <td>34</td>\n",
       "      <td>Yes</td>\n",
       "      <td>No</td>\n",
       "      <td>DSL</td>\n",
       "      <td>Yes</td>\n",
       "      <td>...</td>\n",
       "      <td>Yes</td>\n",
       "      <td>No</td>\n",
       "      <td>No</td>\n",
       "      <td>No</td>\n",
       "      <td>One year</td>\n",
       "      <td>No</td>\n",
       "      <td>Mailed check</td>\n",
       "      <td>56.95</td>\n",
       "      <td>1889.50</td>\n",
       "      <td>No</td>\n",
       "    </tr>\n",
       "    <tr>\n",
       "      <th>2</th>\n",
       "      <td>3668-QPYBK</td>\n",
       "      <td>Male</td>\n",
       "      <td>0</td>\n",
       "      <td>No</td>\n",
       "      <td>No</td>\n",
       "      <td>2</td>\n",
       "      <td>Yes</td>\n",
       "      <td>No</td>\n",
       "      <td>DSL</td>\n",
       "      <td>Yes</td>\n",
       "      <td>...</td>\n",
       "      <td>No</td>\n",
       "      <td>No</td>\n",
       "      <td>No</td>\n",
       "      <td>No</td>\n",
       "      <td>Month-to-month</td>\n",
       "      <td>Yes</td>\n",
       "      <td>Mailed check</td>\n",
       "      <td>53.85</td>\n",
       "      <td>108.15</td>\n",
       "      <td>Yes</td>\n",
       "    </tr>\n",
       "  </tbody>\n",
       "</table>\n",
       "<p>3 rows × 21 columns</p>\n",
       "</div>"
      ],
      "text/plain": [
       "   customerID  gender  SeniorCitizen Partner Dependents  tenure PhoneService  \\\n",
       "0  7590-VHVEG  Female              0     Yes         No       1           No   \n",
       "1  5575-GNVDE    Male              0      No         No      34          Yes   \n",
       "2  3668-QPYBK    Male              0      No         No       2          Yes   \n",
       "\n",
       "      MultipleLines InternetService OnlineSecurity  ... DeviceProtection  \\\n",
       "0  No phone service             DSL             No  ...               No   \n",
       "1                No             DSL            Yes  ...              Yes   \n",
       "2                No             DSL            Yes  ...               No   \n",
       "\n",
       "  TechSupport StreamingTV StreamingMovies        Contract PaperlessBilling  \\\n",
       "0          No          No              No  Month-to-month              Yes   \n",
       "1          No          No              No        One year               No   \n",
       "2          No          No              No  Month-to-month              Yes   \n",
       "\n",
       "      PaymentMethod MonthlyCharges  TotalCharges  Churn  \n",
       "0  Electronic check          29.85         29.85     No  \n",
       "1      Mailed check          56.95       1889.50     No  \n",
       "2      Mailed check          53.85        108.15    Yes  \n",
       "\n",
       "[3 rows x 21 columns]"
      ]
     },
     "execution_count": 249,
     "metadata": {},
     "output_type": "execute_result"
    }
   ],
   "source": [
    "data.head(3)"
   ]
  },
  {
   "cell_type": "code",
   "execution_count": 250,
   "metadata": {},
   "outputs": [
    {
     "data": {
      "text/plain": [
       "['SeniorCitizen',\n",
       " 'Partner',\n",
       " 'Dependents',\n",
       " 'PhoneService',\n",
       " 'PaperlessBilling',\n",
       " 'Churn']"
      ]
     },
     "execution_count": 250,
     "metadata": {},
     "output_type": "execute_result"
    }
   ],
   "source": [
    "# Encodage des variabes binaires\n",
    "data['gender'] = data['gender'].apply(lambda row: 1 if row == 'Female' else 0)\n",
    "binary_columns = data.drop('gender', axis = 1).nunique()[data.drop('gender', axis = 1).nunique() < 3].keys().to_list()\n",
    "binary_columns"
   ]
  },
  {
   "cell_type": "code",
   "execution_count": 251,
   "metadata": {},
   "outputs": [],
   "source": [
    "for column in binary_columns:\n",
    "    data[column] = data[column].apply(lambda row: 1 if row == 'Yes' else 0)"
   ]
  },
  {
   "cell_type": "code",
   "execution_count": 252,
   "metadata": {},
   "outputs": [],
   "source": [
    "# Encodage des variabes categorielles restantes\n",
    "remaining_cat_vars = data[categorical_columns].nunique()[data[categorical_columns].nunique() > 2].keys().to_list()\n",
    "remaining_cat_vars_dummies = pd.get_dummies(data = data[remaining_cat_vars], columns = remaining_cat_vars, \n",
    "                                           drop_first = True)"
   ]
  },
  {
   "cell_type": "code",
   "execution_count": 253,
   "metadata": {},
   "outputs": [],
   "source": [
    "# Nouvelle dataframe\n",
    "data = pd.concat([data['gender'], data[binary_columns], remaining_cat_vars_dummies, data[numerical_columns]]\n",
    "                  , axis=1)"
   ]
  },
  {
   "cell_type": "code",
   "execution_count": 254,
   "metadata": {},
   "outputs": [
    {
     "data": {
      "text/html": [
       "<div>\n",
       "<style scoped>\n",
       "    .dataframe tbody tr th:only-of-type {\n",
       "        vertical-align: middle;\n",
       "    }\n",
       "\n",
       "    .dataframe tbody tr th {\n",
       "        vertical-align: top;\n",
       "    }\n",
       "\n",
       "    .dataframe thead th {\n",
       "        text-align: right;\n",
       "    }\n",
       "</style>\n",
       "<table border=\"1\" class=\"dataframe\">\n",
       "  <thead>\n",
       "    <tr style=\"text-align: right;\">\n",
       "      <th></th>\n",
       "      <th>gender</th>\n",
       "      <th>SeniorCitizen</th>\n",
       "      <th>Partner</th>\n",
       "      <th>Dependents</th>\n",
       "      <th>PhoneService</th>\n",
       "      <th>PaperlessBilling</th>\n",
       "      <th>Churn</th>\n",
       "      <th>MultipleLines_No phone service</th>\n",
       "      <th>MultipleLines_Yes</th>\n",
       "      <th>InternetService_Fiber optic</th>\n",
       "      <th>...</th>\n",
       "      <th>StreamingMovies_No internet service</th>\n",
       "      <th>StreamingMovies_Yes</th>\n",
       "      <th>Contract_One year</th>\n",
       "      <th>Contract_Two year</th>\n",
       "      <th>PaymentMethod_Credit card (automatic)</th>\n",
       "      <th>PaymentMethod_Electronic check</th>\n",
       "      <th>PaymentMethod_Mailed check</th>\n",
       "      <th>tenure</th>\n",
       "      <th>MonthlyCharges</th>\n",
       "      <th>TotalCharges</th>\n",
       "    </tr>\n",
       "  </thead>\n",
       "  <tbody>\n",
       "    <tr>\n",
       "      <th>0</th>\n",
       "      <td>1</td>\n",
       "      <td>0</td>\n",
       "      <td>1</td>\n",
       "      <td>0</td>\n",
       "      <td>0</td>\n",
       "      <td>1</td>\n",
       "      <td>0</td>\n",
       "      <td>1</td>\n",
       "      <td>0</td>\n",
       "      <td>0</td>\n",
       "      <td>...</td>\n",
       "      <td>0</td>\n",
       "      <td>0</td>\n",
       "      <td>0</td>\n",
       "      <td>0</td>\n",
       "      <td>0</td>\n",
       "      <td>1</td>\n",
       "      <td>0</td>\n",
       "      <td>1</td>\n",
       "      <td>29.85</td>\n",
       "      <td>29.85</td>\n",
       "    </tr>\n",
       "    <tr>\n",
       "      <th>1</th>\n",
       "      <td>0</td>\n",
       "      <td>0</td>\n",
       "      <td>0</td>\n",
       "      <td>0</td>\n",
       "      <td>1</td>\n",
       "      <td>0</td>\n",
       "      <td>0</td>\n",
       "      <td>0</td>\n",
       "      <td>0</td>\n",
       "      <td>0</td>\n",
       "      <td>...</td>\n",
       "      <td>0</td>\n",
       "      <td>0</td>\n",
       "      <td>1</td>\n",
       "      <td>0</td>\n",
       "      <td>0</td>\n",
       "      <td>0</td>\n",
       "      <td>1</td>\n",
       "      <td>34</td>\n",
       "      <td>56.95</td>\n",
       "      <td>1889.50</td>\n",
       "    </tr>\n",
       "    <tr>\n",
       "      <th>2</th>\n",
       "      <td>0</td>\n",
       "      <td>0</td>\n",
       "      <td>0</td>\n",
       "      <td>0</td>\n",
       "      <td>1</td>\n",
       "      <td>1</td>\n",
       "      <td>1</td>\n",
       "      <td>0</td>\n",
       "      <td>0</td>\n",
       "      <td>0</td>\n",
       "      <td>...</td>\n",
       "      <td>0</td>\n",
       "      <td>0</td>\n",
       "      <td>0</td>\n",
       "      <td>0</td>\n",
       "      <td>0</td>\n",
       "      <td>0</td>\n",
       "      <td>1</td>\n",
       "      <td>2</td>\n",
       "      <td>53.85</td>\n",
       "      <td>108.15</td>\n",
       "    </tr>\n",
       "    <tr>\n",
       "      <th>3</th>\n",
       "      <td>0</td>\n",
       "      <td>0</td>\n",
       "      <td>0</td>\n",
       "      <td>0</td>\n",
       "      <td>0</td>\n",
       "      <td>0</td>\n",
       "      <td>0</td>\n",
       "      <td>1</td>\n",
       "      <td>0</td>\n",
       "      <td>0</td>\n",
       "      <td>...</td>\n",
       "      <td>0</td>\n",
       "      <td>0</td>\n",
       "      <td>1</td>\n",
       "      <td>0</td>\n",
       "      <td>0</td>\n",
       "      <td>0</td>\n",
       "      <td>0</td>\n",
       "      <td>45</td>\n",
       "      <td>42.30</td>\n",
       "      <td>1840.75</td>\n",
       "    </tr>\n",
       "    <tr>\n",
       "      <th>4</th>\n",
       "      <td>1</td>\n",
       "      <td>0</td>\n",
       "      <td>0</td>\n",
       "      <td>0</td>\n",
       "      <td>1</td>\n",
       "      <td>1</td>\n",
       "      <td>1</td>\n",
       "      <td>0</td>\n",
       "      <td>0</td>\n",
       "      <td>1</td>\n",
       "      <td>...</td>\n",
       "      <td>0</td>\n",
       "      <td>0</td>\n",
       "      <td>0</td>\n",
       "      <td>0</td>\n",
       "      <td>0</td>\n",
       "      <td>1</td>\n",
       "      <td>0</td>\n",
       "      <td>2</td>\n",
       "      <td>70.70</td>\n",
       "      <td>151.65</td>\n",
       "    </tr>\n",
       "  </tbody>\n",
       "</table>\n",
       "<p>5 rows × 31 columns</p>\n",
       "</div>"
      ],
      "text/plain": [
       "   gender  SeniorCitizen  Partner  Dependents  PhoneService  PaperlessBilling  \\\n",
       "0       1              0        1           0             0                 1   \n",
       "1       0              0        0           0             1                 0   \n",
       "2       0              0        0           0             1                 1   \n",
       "3       0              0        0           0             0                 0   \n",
       "4       1              0        0           0             1                 1   \n",
       "\n",
       "   Churn  MultipleLines_No phone service  MultipleLines_Yes  \\\n",
       "0      0                               1                  0   \n",
       "1      0                               0                  0   \n",
       "2      1                               0                  0   \n",
       "3      0                               1                  0   \n",
       "4      1                               0                  0   \n",
       "\n",
       "   InternetService_Fiber optic  ...  StreamingMovies_No internet service  \\\n",
       "0                            0  ...                                    0   \n",
       "1                            0  ...                                    0   \n",
       "2                            0  ...                                    0   \n",
       "3                            0  ...                                    0   \n",
       "4                            1  ...                                    0   \n",
       "\n",
       "   StreamingMovies_Yes  Contract_One year  Contract_Two year  \\\n",
       "0                    0                  0                  0   \n",
       "1                    0                  1                  0   \n",
       "2                    0                  0                  0   \n",
       "3                    0                  1                  0   \n",
       "4                    0                  0                  0   \n",
       "\n",
       "   PaymentMethod_Credit card (automatic)  PaymentMethod_Electronic check  \\\n",
       "0                                      0                               1   \n",
       "1                                      0                               0   \n",
       "2                                      0                               0   \n",
       "3                                      0                               0   \n",
       "4                                      0                               1   \n",
       "\n",
       "   PaymentMethod_Mailed check  tenure  MonthlyCharges  TotalCharges  \n",
       "0                           0       1           29.85         29.85  \n",
       "1                           1      34           56.95       1889.50  \n",
       "2                           1       2           53.85        108.15  \n",
       "3                           0      45           42.30       1840.75  \n",
       "4                           0       2           70.70        151.65  \n",
       "\n",
       "[5 rows x 31 columns]"
      ]
     },
     "execution_count": 254,
     "metadata": {},
     "output_type": "execute_result"
    }
   ],
   "source": [
    "# Affichage de la nouvelle dataframe\n",
    "data.head()"
   ]
  },
  {
   "cell_type": "code",
   "execution_count": 255,
   "metadata": {},
   "outputs": [
    {
     "data": {
      "text/plain": [
       "(7032, 31)"
      ]
     },
     "execution_count": 255,
     "metadata": {},
     "output_type": "execute_result"
    }
   ],
   "source": [
    "# Shape de data\n",
    "data.shape"
   ]
  },
  {
   "cell_type": "markdown",
   "metadata": {},
   "source": [
    "Nous avons vu que la variable TotalCharges est très asymétrique alors transformons-la par une fonction racine carrée."
   ]
  },
  {
   "cell_type": "code",
   "execution_count": 256,
   "metadata": {},
   "outputs": [],
   "source": [
    "# Transformation de la variable 'TotalCharges'\n",
    "\n",
    "data['TotalCharges'] = np.sqrt(data['TotalCharges'])"
   ]
  },
  {
   "cell_type": "code",
   "execution_count": 257,
   "metadata": {},
   "outputs": [
    {
     "data": {
      "image/png": "[encoded data removed]",
      "text/plain": [
       "<Figure size 432x288 with 1 Axes>"
      ]
     },
     "metadata": {
      "needs_background": "light"
     },
     "output_type": "display_data"
    }
   ],
   "source": [
    "# Historigramme de la variable transformée\n",
    "sns.distplot(data['TotalCharges'], kde = False);"
   ]
  },
  {
   "cell_type": "code",
   "execution_count": 258,
   "metadata": {},
   "outputs": [
    {
     "data": {
      "text/plain": [
       "0.3089261418986736"
      ]
     },
     "execution_count": 258,
     "metadata": {},
     "output_type": "execute_result"
    }
   ],
   "source": [
    "# Coefficient d'asymétrie de la variable 'TotalCharges' après transformation\n",
    "data['TotalCharges'].skew()"
   ]
  },
  {
   "cell_type": "code",
   "execution_count": 259,
   "metadata": {},
   "outputs": [],
   "source": [
    "# Données d'entraînement (60%), de validation (20%) et de test (20%)\n",
    "X = data.drop ('Churn', axis = 1)\n",
    "y = data['Churn']\n",
    "seed= 1111\n",
    "X_train, X_test, y_train, y_test = train_test_split(X, y, test_size = 0.4, random_state=seed, stratify = y)\n",
    "X_val, X_test, y_val, y_test = train_test_split (X_test, y_test, test_size= 0.5, random_state=seed, stratify=y_test)\n"
   ]
  },
  {
   "cell_type": "markdown",
   "metadata": {},
   "source": [
    "Il faut s'assurer que les proportions de personnes ayant résilié ou non leur contrat soient les mêmes dans les différents ensembles de données."
   ]
  },
  {
   "cell_type": "code",
   "execution_count": 260,
   "metadata": {},
   "outputs": [
    {
     "data": {
      "text/plain": [
       "Churn\n",
       "0        0.734215\n",
       "1        0.265785\n",
       "dtype: float64"
      ]
     },
     "execution_count": 260,
     "metadata": {},
     "output_type": "execute_result"
    }
   ],
   "source": [
    "# Frequence des classes dans y\n",
    "pd.DataFrame(y).value_counts(normalize=True)"
   ]
  },
  {
   "cell_type": "code",
   "execution_count": 261,
   "metadata": {},
   "outputs": [
    {
     "data": {
      "text/plain": [
       "Churn\n",
       "0        0.734297\n",
       "1        0.265703\n",
       "dtype: float64"
      ]
     },
     "execution_count": 261,
     "metadata": {},
     "output_type": "execute_result"
    }
   ],
   "source": [
    "# Frequence des classes dans y_train\n",
    "pd.DataFrame(y_train).value_counts(normalize=True)"
   ]
  },
  {
   "cell_type": "code",
   "execution_count": 262,
   "metadata": {},
   "outputs": [
    {
     "data": {
      "text/plain": [
       "Churn\n",
       "0        0.733997\n",
       "1        0.266003\n",
       "dtype: float64"
      ]
     },
     "execution_count": 262,
     "metadata": {},
     "output_type": "execute_result"
    }
   ],
   "source": [
    "# Frequence des classes dans y_val\n",
    "pd.DataFrame(y_val).value_counts(normalize=True)"
   ]
  },
  {
   "cell_type": "code",
   "execution_count": 263,
   "metadata": {},
   "outputs": [
    {
     "data": {
      "text/plain": [
       "Churn\n",
       "0        0.734186\n",
       "1        0.265814\n",
       "dtype: float64"
      ]
     },
     "execution_count": 263,
     "metadata": {},
     "output_type": "execute_result"
    }
   ],
   "source": [
    "# Frequence des classes dans y_test\n",
    "pd.DataFrame(y_test).value_counts(normalize=True)"
   ]
  },
  {
   "cell_type": "markdown",
   "metadata": {},
   "source": [
    "Attaquons-nous maintenant au problème de déséquilibre de classe dans les données.\n",
    "Lorsqu'il y a une très grande différence entre le nombre 'observations dans chaque catégorie de la variable cible à prédire, cela put entraîner des erreurs de modélisation.\n",
    "Dans notre cas ici, il y a un peu plus de 73% de personnes qui n'ont pas résilié leur abonnement contre environ un peu plus de 26% qui ont résilié leur abonnement. Il y a donc un grand déséquilibre de classe. Nous pouvons utiliser le rééchantillonnage pour créer plus d'équilibre entre les catégorie de la variable cible. Soit on crée plus d'observations dans la classe minoritaire (modalité 1) c'est-à-dire on fait un sur-échantillonnage, soit on diminue les observations de la classe majoritaire (modalité O) c'est-à-dire un sous-échantillonnage."
   ]
  },
  {
   "cell_type": "code",
   "execution_count": 264,
   "metadata": {},
   "outputs": [
    {
     "data": {
      "text/html": [
       "<div>\n",
       "<style scoped>\n",
       "    .dataframe tbody tr th:only-of-type {\n",
       "        vertical-align: middle;\n",
       "    }\n",
       "\n",
       "    .dataframe tbody tr th {\n",
       "        vertical-align: top;\n",
       "    }\n",
       "\n",
       "    .dataframe thead th {\n",
       "        text-align: right;\n",
       "    }\n",
       "</style>\n",
       "<table border=\"1\" class=\"dataframe\">\n",
       "  <thead>\n",
       "    <tr style=\"text-align: right;\">\n",
       "      <th></th>\n",
       "      <th>gender</th>\n",
       "      <th>SeniorCitizen</th>\n",
       "      <th>Partner</th>\n",
       "      <th>Dependents</th>\n",
       "      <th>PhoneService</th>\n",
       "      <th>PaperlessBilling</th>\n",
       "      <th>MultipleLines_No phone service</th>\n",
       "      <th>MultipleLines_Yes</th>\n",
       "      <th>InternetService_Fiber optic</th>\n",
       "      <th>InternetService_No</th>\n",
       "      <th>...</th>\n",
       "      <th>StreamingMovies_Yes</th>\n",
       "      <th>Contract_One year</th>\n",
       "      <th>Contract_Two year</th>\n",
       "      <th>PaymentMethod_Credit card (automatic)</th>\n",
       "      <th>PaymentMethod_Electronic check</th>\n",
       "      <th>PaymentMethod_Mailed check</th>\n",
       "      <th>tenure</th>\n",
       "      <th>MonthlyCharges</th>\n",
       "      <th>TotalCharges</th>\n",
       "      <th>Churn</th>\n",
       "    </tr>\n",
       "  </thead>\n",
       "  <tbody>\n",
       "    <tr>\n",
       "      <th>6406</th>\n",
       "      <td>1</td>\n",
       "      <td>0</td>\n",
       "      <td>0</td>\n",
       "      <td>0</td>\n",
       "      <td>0</td>\n",
       "      <td>1</td>\n",
       "      <td>1</td>\n",
       "      <td>0</td>\n",
       "      <td>0</td>\n",
       "      <td>0</td>\n",
       "      <td>...</td>\n",
       "      <td>1</td>\n",
       "      <td>0</td>\n",
       "      <td>0</td>\n",
       "      <td>1</td>\n",
       "      <td>0</td>\n",
       "      <td>0</td>\n",
       "      <td>39</td>\n",
       "      <td>50.65</td>\n",
       "      <td>43.650888</td>\n",
       "      <td>0</td>\n",
       "    </tr>\n",
       "    <tr>\n",
       "      <th>6124</th>\n",
       "      <td>1</td>\n",
       "      <td>0</td>\n",
       "      <td>1</td>\n",
       "      <td>1</td>\n",
       "      <td>1</td>\n",
       "      <td>1</td>\n",
       "      <td>0</td>\n",
       "      <td>0</td>\n",
       "      <td>0</td>\n",
       "      <td>0</td>\n",
       "      <td>...</td>\n",
       "      <td>0</td>\n",
       "      <td>1</td>\n",
       "      <td>0</td>\n",
       "      <td>0</td>\n",
       "      <td>0</td>\n",
       "      <td>1</td>\n",
       "      <td>57</td>\n",
       "      <td>59.30</td>\n",
       "      <td>57.221936</td>\n",
       "      <td>0</td>\n",
       "    </tr>\n",
       "    <tr>\n",
       "      <th>4051</th>\n",
       "      <td>1</td>\n",
       "      <td>0</td>\n",
       "      <td>1</td>\n",
       "      <td>0</td>\n",
       "      <td>1</td>\n",
       "      <td>1</td>\n",
       "      <td>0</td>\n",
       "      <td>1</td>\n",
       "      <td>1</td>\n",
       "      <td>0</td>\n",
       "      <td>...</td>\n",
       "      <td>1</td>\n",
       "      <td>0</td>\n",
       "      <td>1</td>\n",
       "      <td>1</td>\n",
       "      <td>0</td>\n",
       "      <td>0</td>\n",
       "      <td>72</td>\n",
       "      <td>97.70</td>\n",
       "      <td>82.883653</td>\n",
       "      <td>0</td>\n",
       "    </tr>\n",
       "    <tr>\n",
       "      <th>3839</th>\n",
       "      <td>1</td>\n",
       "      <td>0</td>\n",
       "      <td>1</td>\n",
       "      <td>1</td>\n",
       "      <td>1</td>\n",
       "      <td>0</td>\n",
       "      <td>0</td>\n",
       "      <td>0</td>\n",
       "      <td>0</td>\n",
       "      <td>1</td>\n",
       "      <td>...</td>\n",
       "      <td>0</td>\n",
       "      <td>0</td>\n",
       "      <td>0</td>\n",
       "      <td>0</td>\n",
       "      <td>0</td>\n",
       "      <td>1</td>\n",
       "      <td>15</td>\n",
       "      <td>20.05</td>\n",
       "      <td>16.861198</td>\n",
       "      <td>0</td>\n",
       "    </tr>\n",
       "    <tr>\n",
       "      <th>2523</th>\n",
       "      <td>1</td>\n",
       "      <td>0</td>\n",
       "      <td>1</td>\n",
       "      <td>1</td>\n",
       "      <td>1</td>\n",
       "      <td>0</td>\n",
       "      <td>0</td>\n",
       "      <td>0</td>\n",
       "      <td>0</td>\n",
       "      <td>1</td>\n",
       "      <td>...</td>\n",
       "      <td>0</td>\n",
       "      <td>0</td>\n",
       "      <td>1</td>\n",
       "      <td>1</td>\n",
       "      <td>0</td>\n",
       "      <td>0</td>\n",
       "      <td>47</td>\n",
       "      <td>20.25</td>\n",
       "      <td>29.553342</td>\n",
       "      <td>0</td>\n",
       "    </tr>\n",
       "    <tr>\n",
       "      <th>...</th>\n",
       "      <td>...</td>\n",
       "      <td>...</td>\n",
       "      <td>...</td>\n",
       "      <td>...</td>\n",
       "      <td>...</td>\n",
       "      <td>...</td>\n",
       "      <td>...</td>\n",
       "      <td>...</td>\n",
       "      <td>...</td>\n",
       "      <td>...</td>\n",
       "      <td>...</td>\n",
       "      <td>...</td>\n",
       "      <td>...</td>\n",
       "      <td>...</td>\n",
       "      <td>...</td>\n",
       "      <td>...</td>\n",
       "      <td>...</td>\n",
       "      <td>...</td>\n",
       "      <td>...</td>\n",
       "      <td>...</td>\n",
       "      <td>...</td>\n",
       "    </tr>\n",
       "    <tr>\n",
       "      <th>5872</th>\n",
       "      <td>1</td>\n",
       "      <td>0</td>\n",
       "      <td>0</td>\n",
       "      <td>1</td>\n",
       "      <td>1</td>\n",
       "      <td>1</td>\n",
       "      <td>0</td>\n",
       "      <td>0</td>\n",
       "      <td>1</td>\n",
       "      <td>0</td>\n",
       "      <td>...</td>\n",
       "      <td>0</td>\n",
       "      <td>0</td>\n",
       "      <td>0</td>\n",
       "      <td>0</td>\n",
       "      <td>1</td>\n",
       "      <td>0</td>\n",
       "      <td>1</td>\n",
       "      <td>69.65</td>\n",
       "      <td>8.345658</td>\n",
       "      <td>1</td>\n",
       "    </tr>\n",
       "    <tr>\n",
       "      <th>6040</th>\n",
       "      <td>1</td>\n",
       "      <td>0</td>\n",
       "      <td>0</td>\n",
       "      <td>0</td>\n",
       "      <td>1</td>\n",
       "      <td>0</td>\n",
       "      <td>0</td>\n",
       "      <td>0</td>\n",
       "      <td>1</td>\n",
       "      <td>0</td>\n",
       "      <td>...</td>\n",
       "      <td>0</td>\n",
       "      <td>0</td>\n",
       "      <td>0</td>\n",
       "      <td>0</td>\n",
       "      <td>0</td>\n",
       "      <td>1</td>\n",
       "      <td>1</td>\n",
       "      <td>70.75</td>\n",
       "      <td>8.411302</td>\n",
       "      <td>1</td>\n",
       "    </tr>\n",
       "    <tr>\n",
       "      <th>4212</th>\n",
       "      <td>1</td>\n",
       "      <td>0</td>\n",
       "      <td>0</td>\n",
       "      <td>0</td>\n",
       "      <td>1</td>\n",
       "      <td>0</td>\n",
       "      <td>0</td>\n",
       "      <td>0</td>\n",
       "      <td>1</td>\n",
       "      <td>0</td>\n",
       "      <td>...</td>\n",
       "      <td>1</td>\n",
       "      <td>0</td>\n",
       "      <td>0</td>\n",
       "      <td>0</td>\n",
       "      <td>1</td>\n",
       "      <td>0</td>\n",
       "      <td>1</td>\n",
       "      <td>90.60</td>\n",
       "      <td>9.518403</td>\n",
       "      <td>1</td>\n",
       "    </tr>\n",
       "    <tr>\n",
       "      <th>508</th>\n",
       "      <td>1</td>\n",
       "      <td>0</td>\n",
       "      <td>1</td>\n",
       "      <td>1</td>\n",
       "      <td>1</td>\n",
       "      <td>1</td>\n",
       "      <td>0</td>\n",
       "      <td>1</td>\n",
       "      <td>1</td>\n",
       "      <td>0</td>\n",
       "      <td>...</td>\n",
       "      <td>0</td>\n",
       "      <td>0</td>\n",
       "      <td>0</td>\n",
       "      <td>0</td>\n",
       "      <td>1</td>\n",
       "      <td>0</td>\n",
       "      <td>6</td>\n",
       "      <td>80.50</td>\n",
       "      <td>22.424317</td>\n",
       "      <td>1</td>\n",
       "    </tr>\n",
       "    <tr>\n",
       "      <th>1056</th>\n",
       "      <td>1</td>\n",
       "      <td>0</td>\n",
       "      <td>0</td>\n",
       "      <td>0</td>\n",
       "      <td>1</td>\n",
       "      <td>1</td>\n",
       "      <td>0</td>\n",
       "      <td>0</td>\n",
       "      <td>1</td>\n",
       "      <td>0</td>\n",
       "      <td>...</td>\n",
       "      <td>1</td>\n",
       "      <td>0</td>\n",
       "      <td>0</td>\n",
       "      <td>0</td>\n",
       "      <td>1</td>\n",
       "      <td>0</td>\n",
       "      <td>5</td>\n",
       "      <td>80.00</td>\n",
       "      <td>20.310096</td>\n",
       "      <td>1</td>\n",
       "    </tr>\n",
       "  </tbody>\n",
       "</table>\n",
       "<p>6196 rows × 31 columns</p>\n",
       "</div>"
      ],
      "text/plain": [
       "      gender  SeniorCitizen  Partner  Dependents  PhoneService  \\\n",
       "6406       1              0        0           0             0   \n",
       "6124       1              0        1           1             1   \n",
       "4051       1              0        1           0             1   \n",
       "3839       1              0        1           1             1   \n",
       "2523       1              0        1           1             1   \n",
       "...      ...            ...      ...         ...           ...   \n",
       "5872       1              0        0           1             1   \n",
       "6040       1              0        0           0             1   \n",
       "4212       1              0        0           0             1   \n",
       "508        1              0        1           1             1   \n",
       "1056       1              0        0           0             1   \n",
       "\n",
       "      PaperlessBilling  MultipleLines_No phone service  MultipleLines_Yes  \\\n",
       "6406                 1                               1                  0   \n",
       "6124                 1                               0                  0   \n",
       "4051                 1                               0                  1   \n",
       "3839                 0                               0                  0   \n",
       "2523                 0                               0                  0   \n",
       "...                ...                             ...                ...   \n",
       "5872                 1                               0                  0   \n",
       "6040                 0                               0                  0   \n",
       "4212                 0                               0                  0   \n",
       "508                  1                               0                  1   \n",
       "1056                 1                               0                  0   \n",
       "\n",
       "      InternetService_Fiber optic  InternetService_No  ...  \\\n",
       "6406                            0                   0  ...   \n",
       "6124                            0                   0  ...   \n",
       "4051                            1                   0  ...   \n",
       "3839                            0                   1  ...   \n",
       "2523                            0                   1  ...   \n",
       "...                           ...                 ...  ...   \n",
       "5872                            1                   0  ...   \n",
       "6040                            1                   0  ...   \n",
       "4212                            1                   0  ...   \n",
       "508                             1                   0  ...   \n",
       "1056                            1                   0  ...   \n",
       "\n",
       "      StreamingMovies_Yes  Contract_One year  Contract_Two year  \\\n",
       "6406                    1                  0                  0   \n",
       "6124                    0                  1                  0   \n",
       "4051                    1                  0                  1   \n",
       "3839                    0                  0                  0   \n",
       "2523                    0                  0                  1   \n",
       "...                   ...                ...                ...   \n",
       "5872                    0                  0                  0   \n",
       "6040                    0                  0                  0   \n",
       "4212                    1                  0                  0   \n",
       "508                     0                  0                  0   \n",
       "1056                    1                  0                  0   \n",
       "\n",
       "      PaymentMethod_Credit card (automatic)  PaymentMethod_Electronic check  \\\n",
       "6406                                      1                               0   \n",
       "6124                                      0                               0   \n",
       "4051                                      1                               0   \n",
       "3839                                      0                               0   \n",
       "2523                                      1                               0   \n",
       "...                                     ...                             ...   \n",
       "5872                                      0                               1   \n",
       "6040                                      0                               0   \n",
       "4212                                      0                               1   \n",
       "508                                       0                               1   \n",
       "1056                                      0                               1   \n",
       "\n",
       "      PaymentMethod_Mailed check  tenure  MonthlyCharges  TotalCharges  Churn  \n",
       "6406                           0      39           50.65     43.650888      0  \n",
       "6124                           1      57           59.30     57.221936      0  \n",
       "4051                           0      72           97.70     82.883653      0  \n",
       "3839                           1      15           20.05     16.861198      0  \n",
       "2523                           0      47           20.25     29.553342      0  \n",
       "...                          ...     ...             ...           ...    ...  \n",
       "5872                           0       1           69.65      8.345658      1  \n",
       "6040                           1       1           70.75      8.411302      1  \n",
       "4212                           0       1           90.60      9.518403      1  \n",
       "508                            0       6           80.50     22.424317      1  \n",
       "1056                           0       5           80.00     20.310096      1  \n",
       "\n",
       "[6196 rows x 31 columns]"
      ]
     },
     "execution_count": 264,
     "metadata": {},
     "output_type": "execute_result"
    }
   ],
   "source": [
    "# Résolution du problème de déséquilibre de classe: Méthode de sur-échantillonnage de la classe minoritaire\n",
    "X2 = X_train\n",
    "X2['Churn'] = y_train.values\n",
    "minority = X2[X2.Churn == 1]\n",
    "majority = X2[X2.Churn == 0]\n",
    "\n",
    "minority_upsampled = resample(minority, replace=True, n_samples = len(majority), random_state=seed)\n",
    "upsampled = pd.concat([majority, minority_upsampled])\n",
    "upsampled"
   ]
  },
  {
   "cell_type": "code",
   "execution_count": 265,
   "metadata": {},
   "outputs": [
    {
     "data": {
      "text/plain": [
       "0    0.5\n",
       "1    0.5\n",
       "Name: Churn, dtype: float64"
      ]
     },
     "execution_count": 265,
     "metadata": {},
     "output_type": "execute_result"
    }
   ],
   "source": [
    "# Vérification\n",
    "upsampled['Churn'].value_counts(normalize=True)"
   ]
  },
  {
   "cell_type": "code",
   "execution_count": 266,
   "metadata": {},
   "outputs": [],
   "source": [
    "# Données d'entrainement sur la base la méthode de sur-échantillonnage de la classe minoritaire\n",
    "X_train_up = upsampled.drop('Churn', axis=1)\n",
    "y_train_up = upsampled['Churn']"
   ]
  },
  {
   "cell_type": "code",
   "execution_count": 267,
   "metadata": {},
   "outputs": [
    {
     "data": {
      "text/html": [
       "<div>\n",
       "<style scoped>\n",
       "    .dataframe tbody tr th:only-of-type {\n",
       "        vertical-align: middle;\n",
       "    }\n",
       "\n",
       "    .dataframe tbody tr th {\n",
       "        vertical-align: top;\n",
       "    }\n",
       "\n",
       "    .dataframe thead th {\n",
       "        text-align: right;\n",
       "    }\n",
       "</style>\n",
       "<table border=\"1\" class=\"dataframe\">\n",
       "  <thead>\n",
       "    <tr style=\"text-align: right;\">\n",
       "      <th></th>\n",
       "      <th>gender</th>\n",
       "      <th>SeniorCitizen</th>\n",
       "      <th>Partner</th>\n",
       "      <th>Dependents</th>\n",
       "      <th>PhoneService</th>\n",
       "      <th>PaperlessBilling</th>\n",
       "      <th>MultipleLines_No phone service</th>\n",
       "      <th>MultipleLines_Yes</th>\n",
       "      <th>InternetService_Fiber optic</th>\n",
       "      <th>InternetService_No</th>\n",
       "      <th>...</th>\n",
       "      <th>StreamingMovies_Yes</th>\n",
       "      <th>Contract_One year</th>\n",
       "      <th>Contract_Two year</th>\n",
       "      <th>PaymentMethod_Credit card (automatic)</th>\n",
       "      <th>PaymentMethod_Electronic check</th>\n",
       "      <th>PaymentMethod_Mailed check</th>\n",
       "      <th>tenure</th>\n",
       "      <th>MonthlyCharges</th>\n",
       "      <th>TotalCharges</th>\n",
       "      <th>Churn</th>\n",
       "    </tr>\n",
       "  </thead>\n",
       "  <tbody>\n",
       "    <tr>\n",
       "      <th>6908</th>\n",
       "      <td>0</td>\n",
       "      <td>0</td>\n",
       "      <td>0</td>\n",
       "      <td>1</td>\n",
       "      <td>1</td>\n",
       "      <td>0</td>\n",
       "      <td>0</td>\n",
       "      <td>0</td>\n",
       "      <td>0</td>\n",
       "      <td>0</td>\n",
       "      <td>...</td>\n",
       "      <td>0</td>\n",
       "      <td>0</td>\n",
       "      <td>0</td>\n",
       "      <td>0</td>\n",
       "      <td>1</td>\n",
       "      <td>0</td>\n",
       "      <td>9</td>\n",
       "      <td>55.35</td>\n",
       "      <td>21.207310</td>\n",
       "      <td>1</td>\n",
       "    </tr>\n",
       "    <tr>\n",
       "      <th>1530</th>\n",
       "      <td>0</td>\n",
       "      <td>0</td>\n",
       "      <td>1</td>\n",
       "      <td>1</td>\n",
       "      <td>1</td>\n",
       "      <td>0</td>\n",
       "      <td>0</td>\n",
       "      <td>0</td>\n",
       "      <td>1</td>\n",
       "      <td>0</td>\n",
       "      <td>...</td>\n",
       "      <td>1</td>\n",
       "      <td>0</td>\n",
       "      <td>0</td>\n",
       "      <td>1</td>\n",
       "      <td>0</td>\n",
       "      <td>0</td>\n",
       "      <td>2</td>\n",
       "      <td>90.00</td>\n",
       "      <td>13.785862</td>\n",
       "      <td>1</td>\n",
       "    </tr>\n",
       "    <tr>\n",
       "      <th>3617</th>\n",
       "      <td>1</td>\n",
       "      <td>0</td>\n",
       "      <td>1</td>\n",
       "      <td>0</td>\n",
       "      <td>0</td>\n",
       "      <td>1</td>\n",
       "      <td>1</td>\n",
       "      <td>0</td>\n",
       "      <td>0</td>\n",
       "      <td>0</td>\n",
       "      <td>...</td>\n",
       "      <td>1</td>\n",
       "      <td>0</td>\n",
       "      <td>0</td>\n",
       "      <td>0</td>\n",
       "      <td>1</td>\n",
       "      <td>0</td>\n",
       "      <td>18</td>\n",
       "      <td>48.35</td>\n",
       "      <td>28.472794</td>\n",
       "      <td>1</td>\n",
       "    </tr>\n",
       "    <tr>\n",
       "      <th>6800</th>\n",
       "      <td>1</td>\n",
       "      <td>0</td>\n",
       "      <td>1</td>\n",
       "      <td>0</td>\n",
       "      <td>1</td>\n",
       "      <td>0</td>\n",
       "      <td>0</td>\n",
       "      <td>0</td>\n",
       "      <td>1</td>\n",
       "      <td>0</td>\n",
       "      <td>...</td>\n",
       "      <td>1</td>\n",
       "      <td>1</td>\n",
       "      <td>0</td>\n",
       "      <td>0</td>\n",
       "      <td>0</td>\n",
       "      <td>1</td>\n",
       "      <td>14</td>\n",
       "      <td>105.95</td>\n",
       "      <td>36.727374</td>\n",
       "      <td>1</td>\n",
       "    </tr>\n",
       "    <tr>\n",
       "      <th>3772</th>\n",
       "      <td>0</td>\n",
       "      <td>0</td>\n",
       "      <td>1</td>\n",
       "      <td>0</td>\n",
       "      <td>1</td>\n",
       "      <td>1</td>\n",
       "      <td>0</td>\n",
       "      <td>0</td>\n",
       "      <td>1</td>\n",
       "      <td>0</td>\n",
       "      <td>...</td>\n",
       "      <td>1</td>\n",
       "      <td>0</td>\n",
       "      <td>0</td>\n",
       "      <td>0</td>\n",
       "      <td>1</td>\n",
       "      <td>0</td>\n",
       "      <td>1</td>\n",
       "      <td>95.00</td>\n",
       "      <td>9.746794</td>\n",
       "      <td>1</td>\n",
       "    </tr>\n",
       "    <tr>\n",
       "      <th>...</th>\n",
       "      <td>...</td>\n",
       "      <td>...</td>\n",
       "      <td>...</td>\n",
       "      <td>...</td>\n",
       "      <td>...</td>\n",
       "      <td>...</td>\n",
       "      <td>...</td>\n",
       "      <td>...</td>\n",
       "      <td>...</td>\n",
       "      <td>...</td>\n",
       "      <td>...</td>\n",
       "      <td>...</td>\n",
       "      <td>...</td>\n",
       "      <td>...</td>\n",
       "      <td>...</td>\n",
       "      <td>...</td>\n",
       "      <td>...</td>\n",
       "      <td>...</td>\n",
       "      <td>...</td>\n",
       "      <td>...</td>\n",
       "      <td>...</td>\n",
       "    </tr>\n",
       "    <tr>\n",
       "      <th>6303</th>\n",
       "      <td>1</td>\n",
       "      <td>0</td>\n",
       "      <td>1</td>\n",
       "      <td>0</td>\n",
       "      <td>1</td>\n",
       "      <td>0</td>\n",
       "      <td>0</td>\n",
       "      <td>1</td>\n",
       "      <td>1</td>\n",
       "      <td>0</td>\n",
       "      <td>...</td>\n",
       "      <td>1</td>\n",
       "      <td>0</td>\n",
       "      <td>1</td>\n",
       "      <td>0</td>\n",
       "      <td>1</td>\n",
       "      <td>0</td>\n",
       "      <td>71</td>\n",
       "      <td>109.25</td>\n",
       "      <td>87.793508</td>\n",
       "      <td>0</td>\n",
       "    </tr>\n",
       "    <tr>\n",
       "      <th>3663</th>\n",
       "      <td>1</td>\n",
       "      <td>0</td>\n",
       "      <td>0</td>\n",
       "      <td>0</td>\n",
       "      <td>1</td>\n",
       "      <td>1</td>\n",
       "      <td>0</td>\n",
       "      <td>0</td>\n",
       "      <td>1</td>\n",
       "      <td>0</td>\n",
       "      <td>...</td>\n",
       "      <td>1</td>\n",
       "      <td>0</td>\n",
       "      <td>0</td>\n",
       "      <td>0</td>\n",
       "      <td>0</td>\n",
       "      <td>1</td>\n",
       "      <td>9</td>\n",
       "      <td>88.40</td>\n",
       "      <td>28.082023</td>\n",
       "      <td>0</td>\n",
       "    </tr>\n",
       "    <tr>\n",
       "      <th>5033</th>\n",
       "      <td>1</td>\n",
       "      <td>0</td>\n",
       "      <td>0</td>\n",
       "      <td>0</td>\n",
       "      <td>1</td>\n",
       "      <td>1</td>\n",
       "      <td>0</td>\n",
       "      <td>0</td>\n",
       "      <td>0</td>\n",
       "      <td>1</td>\n",
       "      <td>...</td>\n",
       "      <td>0</td>\n",
       "      <td>0</td>\n",
       "      <td>0</td>\n",
       "      <td>0</td>\n",
       "      <td>0</td>\n",
       "      <td>1</td>\n",
       "      <td>1</td>\n",
       "      <td>19.40</td>\n",
       "      <td>4.404543</td>\n",
       "      <td>0</td>\n",
       "    </tr>\n",
       "    <tr>\n",
       "      <th>2183</th>\n",
       "      <td>0</td>\n",
       "      <td>0</td>\n",
       "      <td>0</td>\n",
       "      <td>0</td>\n",
       "      <td>1</td>\n",
       "      <td>1</td>\n",
       "      <td>0</td>\n",
       "      <td>0</td>\n",
       "      <td>0</td>\n",
       "      <td>0</td>\n",
       "      <td>...</td>\n",
       "      <td>0</td>\n",
       "      <td>0</td>\n",
       "      <td>0</td>\n",
       "      <td>1</td>\n",
       "      <td>0</td>\n",
       "      <td>0</td>\n",
       "      <td>2</td>\n",
       "      <td>50.20</td>\n",
       "      <td>10.452272</td>\n",
       "      <td>0</td>\n",
       "    </tr>\n",
       "    <tr>\n",
       "      <th>2403</th>\n",
       "      <td>1</td>\n",
       "      <td>0</td>\n",
       "      <td>1</td>\n",
       "      <td>0</td>\n",
       "      <td>1</td>\n",
       "      <td>1</td>\n",
       "      <td>0</td>\n",
       "      <td>0</td>\n",
       "      <td>0</td>\n",
       "      <td>0</td>\n",
       "      <td>...</td>\n",
       "      <td>1</td>\n",
       "      <td>1</td>\n",
       "      <td>0</td>\n",
       "      <td>0</td>\n",
       "      <td>0</td>\n",
       "      <td>0</td>\n",
       "      <td>71</td>\n",
       "      <td>84.80</td>\n",
       "      <td>77.756672</td>\n",
       "      <td>0</td>\n",
       "    </tr>\n",
       "  </tbody>\n",
       "</table>\n",
       "<p>2242 rows × 31 columns</p>\n",
       "</div>"
      ],
      "text/plain": [
       "      gender  SeniorCitizen  Partner  Dependents  PhoneService  \\\n",
       "6908       0              0        0           1             1   \n",
       "1530       0              0        1           1             1   \n",
       "3617       1              0        1           0             0   \n",
       "6800       1              0        1           0             1   \n",
       "3772       0              0        1           0             1   \n",
       "...      ...            ...      ...         ...           ...   \n",
       "6303       1              0        1           0             1   \n",
       "3663       1              0        0           0             1   \n",
       "5033       1              0        0           0             1   \n",
       "2183       0              0        0           0             1   \n",
       "2403       1              0        1           0             1   \n",
       "\n",
       "      PaperlessBilling  MultipleLines_No phone service  MultipleLines_Yes  \\\n",
       "6908                 0                               0                  0   \n",
       "1530                 0                               0                  0   \n",
       "3617                 1                               1                  0   \n",
       "6800                 0                               0                  0   \n",
       "3772                 1                               0                  0   \n",
       "...                ...                             ...                ...   \n",
       "6303                 0                               0                  1   \n",
       "3663                 1                               0                  0   \n",
       "5033                 1                               0                  0   \n",
       "2183                 1                               0                  0   \n",
       "2403                 1                               0                  0   \n",
       "\n",
       "      InternetService_Fiber optic  InternetService_No  ...  \\\n",
       "6908                            0                   0  ...   \n",
       "1530                            1                   0  ...   \n",
       "3617                            0                   0  ...   \n",
       "6800                            1                   0  ...   \n",
       "3772                            1                   0  ...   \n",
       "...                           ...                 ...  ...   \n",
       "6303                            1                   0  ...   \n",
       "3663                            1                   0  ...   \n",
       "5033                            0                   1  ...   \n",
       "2183                            0                   0  ...   \n",
       "2403                            0                   0  ...   \n",
       "\n",
       "      StreamingMovies_Yes  Contract_One year  Contract_Two year  \\\n",
       "6908                    0                  0                  0   \n",
       "1530                    1                  0                  0   \n",
       "3617                    1                  0                  0   \n",
       "6800                    1                  1                  0   \n",
       "3772                    1                  0                  0   \n",
       "...                   ...                ...                ...   \n",
       "6303                    1                  0                  1   \n",
       "3663                    1                  0                  0   \n",
       "5033                    0                  0                  0   \n",
       "2183                    0                  0                  0   \n",
       "2403                    1                  1                  0   \n",
       "\n",
       "      PaymentMethod_Credit card (automatic)  PaymentMethod_Electronic check  \\\n",
       "6908                                      0                               1   \n",
       "1530                                      1                               0   \n",
       "3617                                      0                               1   \n",
       "6800                                      0                               0   \n",
       "3772                                      0                               1   \n",
       "...                                     ...                             ...   \n",
       "6303                                      0                               1   \n",
       "3663                                      0                               0   \n",
       "5033                                      0                               0   \n",
       "2183                                      1                               0   \n",
       "2403                                      0                               0   \n",
       "\n",
       "      PaymentMethod_Mailed check  tenure  MonthlyCharges  TotalCharges  Churn  \n",
       "6908                           0       9           55.35     21.207310      1  \n",
       "1530                           0       2           90.00     13.785862      1  \n",
       "3617                           0      18           48.35     28.472794      1  \n",
       "6800                           1      14          105.95     36.727374      1  \n",
       "3772                           0       1           95.00      9.746794      1  \n",
       "...                          ...     ...             ...           ...    ...  \n",
       "6303                           0      71          109.25     87.793508      0  \n",
       "3663                           1       9           88.40     28.082023      0  \n",
       "5033                           1       1           19.40      4.404543      0  \n",
       "2183                           0       2           50.20     10.452272      0  \n",
       "2403                           0      71           84.80     77.756672      0  \n",
       "\n",
       "[2242 rows x 31 columns]"
      ]
     },
     "execution_count": 267,
     "metadata": {},
     "output_type": "execute_result"
    }
   ],
   "source": [
    "# Résolution du problème de déséquilibre de classe : Méthode de sous-échantillonnage de la classe majoritaire\n",
    "majority_downsampled = resample(majority, replace=False, n_samples=len(minority), random_state=seed)\n",
    "downsampled = pd.concat([minority, majority_downsampled])\n",
    "downsampled"
   ]
  },
  {
   "cell_type": "code",
   "execution_count": 268,
   "metadata": {},
   "outputs": [
    {
     "data": {
      "text/plain": [
       "1    0.5\n",
       "0    0.5\n",
       "Name: Churn, dtype: float64"
      ]
     },
     "execution_count": 268,
     "metadata": {},
     "output_type": "execute_result"
    }
   ],
   "source": [
    "# Vérification\n",
    "downsampled['Churn'].value_counts(normalize=True)"
   ]
  },
  {
   "cell_type": "code",
   "execution_count": 269,
   "metadata": {},
   "outputs": [],
   "source": [
    "# Données d'entraînement sur la base la méthode de sous-échantillonnage de la classe majoritaire\n",
    "X_train_down = downsampled.drop('Churn', axis =1)\n",
    "y_train_down = downsampled['Churn']"
   ]
  },
  {
   "cell_type": "code",
   "execution_count": 270,
   "metadata": {},
   "outputs": [
    {
     "data": {
      "text/html": [
       "<div>\n",
       "<style scoped>\n",
       "    .dataframe tbody tr th:only-of-type {\n",
       "        vertical-align: middle;\n",
       "    }\n",
       "\n",
       "    .dataframe tbody tr th {\n",
       "        vertical-align: top;\n",
       "    }\n",
       "\n",
       "    .dataframe thead th {\n",
       "        text-align: right;\n",
       "    }\n",
       "</style>\n",
       "<table border=\"1\" class=\"dataframe\">\n",
       "  <thead>\n",
       "    <tr style=\"text-align: right;\">\n",
       "      <th></th>\n",
       "      <th>gender</th>\n",
       "      <th>SeniorCitizen</th>\n",
       "      <th>Partner</th>\n",
       "      <th>Dependents</th>\n",
       "      <th>PhoneService</th>\n",
       "      <th>PaperlessBilling</th>\n",
       "      <th>MultipleLines_No phone service</th>\n",
       "      <th>MultipleLines_Yes</th>\n",
       "      <th>InternetService_Fiber optic</th>\n",
       "      <th>InternetService_No</th>\n",
       "      <th>...</th>\n",
       "      <th>StreamingMovies_Yes</th>\n",
       "      <th>Contract_One year</th>\n",
       "      <th>Contract_Two year</th>\n",
       "      <th>PaymentMethod_Credit card (automatic)</th>\n",
       "      <th>PaymentMethod_Electronic check</th>\n",
       "      <th>PaymentMethod_Mailed check</th>\n",
       "      <th>tenure</th>\n",
       "      <th>MonthlyCharges</th>\n",
       "      <th>TotalCharges</th>\n",
       "      <th>Churn</th>\n",
       "    </tr>\n",
       "  </thead>\n",
       "  <tbody>\n",
       "    <tr>\n",
       "      <th>6406</th>\n",
       "      <td>1</td>\n",
       "      <td>0</td>\n",
       "      <td>0</td>\n",
       "      <td>0</td>\n",
       "      <td>0</td>\n",
       "      <td>1</td>\n",
       "      <td>1</td>\n",
       "      <td>0</td>\n",
       "      <td>0</td>\n",
       "      <td>0</td>\n",
       "      <td>...</td>\n",
       "      <td>1</td>\n",
       "      <td>0</td>\n",
       "      <td>0</td>\n",
       "      <td>1</td>\n",
       "      <td>0</td>\n",
       "      <td>0</td>\n",
       "      <td>39</td>\n",
       "      <td>50.65</td>\n",
       "      <td>43.650888</td>\n",
       "      <td>0</td>\n",
       "    </tr>\n",
       "    <tr>\n",
       "      <th>6124</th>\n",
       "      <td>1</td>\n",
       "      <td>0</td>\n",
       "      <td>1</td>\n",
       "      <td>1</td>\n",
       "      <td>1</td>\n",
       "      <td>1</td>\n",
       "      <td>0</td>\n",
       "      <td>0</td>\n",
       "      <td>0</td>\n",
       "      <td>0</td>\n",
       "      <td>...</td>\n",
       "      <td>0</td>\n",
       "      <td>1</td>\n",
       "      <td>0</td>\n",
       "      <td>0</td>\n",
       "      <td>0</td>\n",
       "      <td>1</td>\n",
       "      <td>57</td>\n",
       "      <td>59.30</td>\n",
       "      <td>57.221936</td>\n",
       "      <td>0</td>\n",
       "    </tr>\n",
       "    <tr>\n",
       "      <th>4051</th>\n",
       "      <td>1</td>\n",
       "      <td>0</td>\n",
       "      <td>1</td>\n",
       "      <td>0</td>\n",
       "      <td>1</td>\n",
       "      <td>1</td>\n",
       "      <td>0</td>\n",
       "      <td>1</td>\n",
       "      <td>1</td>\n",
       "      <td>0</td>\n",
       "      <td>...</td>\n",
       "      <td>1</td>\n",
       "      <td>0</td>\n",
       "      <td>1</td>\n",
       "      <td>1</td>\n",
       "      <td>0</td>\n",
       "      <td>0</td>\n",
       "      <td>72</td>\n",
       "      <td>97.70</td>\n",
       "      <td>82.883653</td>\n",
       "      <td>0</td>\n",
       "    </tr>\n",
       "    <tr>\n",
       "      <th>3839</th>\n",
       "      <td>1</td>\n",
       "      <td>0</td>\n",
       "      <td>1</td>\n",
       "      <td>1</td>\n",
       "      <td>1</td>\n",
       "      <td>0</td>\n",
       "      <td>0</td>\n",
       "      <td>0</td>\n",
       "      <td>0</td>\n",
       "      <td>1</td>\n",
       "      <td>...</td>\n",
       "      <td>0</td>\n",
       "      <td>0</td>\n",
       "      <td>0</td>\n",
       "      <td>0</td>\n",
       "      <td>0</td>\n",
       "      <td>1</td>\n",
       "      <td>15</td>\n",
       "      <td>20.05</td>\n",
       "      <td>16.861198</td>\n",
       "      <td>0</td>\n",
       "    </tr>\n",
       "    <tr>\n",
       "      <th>6908</th>\n",
       "      <td>0</td>\n",
       "      <td>0</td>\n",
       "      <td>0</td>\n",
       "      <td>1</td>\n",
       "      <td>1</td>\n",
       "      <td>0</td>\n",
       "      <td>0</td>\n",
       "      <td>0</td>\n",
       "      <td>0</td>\n",
       "      <td>0</td>\n",
       "      <td>...</td>\n",
       "      <td>0</td>\n",
       "      <td>0</td>\n",
       "      <td>0</td>\n",
       "      <td>0</td>\n",
       "      <td>1</td>\n",
       "      <td>0</td>\n",
       "      <td>9</td>\n",
       "      <td>55.35</td>\n",
       "      <td>21.207310</td>\n",
       "      <td>1</td>\n",
       "    </tr>\n",
       "    <tr>\n",
       "      <th>...</th>\n",
       "      <td>...</td>\n",
       "      <td>...</td>\n",
       "      <td>...</td>\n",
       "      <td>...</td>\n",
       "      <td>...</td>\n",
       "      <td>...</td>\n",
       "      <td>...</td>\n",
       "      <td>...</td>\n",
       "      <td>...</td>\n",
       "      <td>...</td>\n",
       "      <td>...</td>\n",
       "      <td>...</td>\n",
       "      <td>...</td>\n",
       "      <td>...</td>\n",
       "      <td>...</td>\n",
       "      <td>...</td>\n",
       "      <td>...</td>\n",
       "      <td>...</td>\n",
       "      <td>...</td>\n",
       "      <td>...</td>\n",
       "      <td>...</td>\n",
       "    </tr>\n",
       "    <tr>\n",
       "      <th>1323</th>\n",
       "      <td>1</td>\n",
       "      <td>0</td>\n",
       "      <td>1</td>\n",
       "      <td>0</td>\n",
       "      <td>1</td>\n",
       "      <td>1</td>\n",
       "      <td>0</td>\n",
       "      <td>1</td>\n",
       "      <td>0</td>\n",
       "      <td>1</td>\n",
       "      <td>...</td>\n",
       "      <td>0</td>\n",
       "      <td>0</td>\n",
       "      <td>1</td>\n",
       "      <td>0</td>\n",
       "      <td>0</td>\n",
       "      <td>0</td>\n",
       "      <td>71</td>\n",
       "      <td>24.65</td>\n",
       "      <td>41.353960</td>\n",
       "      <td>0</td>\n",
       "    </tr>\n",
       "    <tr>\n",
       "      <th>4848</th>\n",
       "      <td>1</td>\n",
       "      <td>0</td>\n",
       "      <td>0</td>\n",
       "      <td>0</td>\n",
       "      <td>1</td>\n",
       "      <td>1</td>\n",
       "      <td>0</td>\n",
       "      <td>1</td>\n",
       "      <td>1</td>\n",
       "      <td>0</td>\n",
       "      <td>...</td>\n",
       "      <td>1</td>\n",
       "      <td>0</td>\n",
       "      <td>0</td>\n",
       "      <td>0</td>\n",
       "      <td>0</td>\n",
       "      <td>1</td>\n",
       "      <td>5</td>\n",
       "      <td>93.90</td>\n",
       "      <td>22.064678</td>\n",
       "      <td>1</td>\n",
       "    </tr>\n",
       "    <tr>\n",
       "      <th>945</th>\n",
       "      <td>1</td>\n",
       "      <td>0</td>\n",
       "      <td>0</td>\n",
       "      <td>0</td>\n",
       "      <td>1</td>\n",
       "      <td>0</td>\n",
       "      <td>0</td>\n",
       "      <td>1</td>\n",
       "      <td>1</td>\n",
       "      <td>0</td>\n",
       "      <td>...</td>\n",
       "      <td>0</td>\n",
       "      <td>0</td>\n",
       "      <td>0</td>\n",
       "      <td>0</td>\n",
       "      <td>0</td>\n",
       "      <td>0</td>\n",
       "      <td>3</td>\n",
       "      <td>74.40</td>\n",
       "      <td>14.690133</td>\n",
       "      <td>1</td>\n",
       "    </tr>\n",
       "    <tr>\n",
       "      <th>2685</th>\n",
       "      <td>1</td>\n",
       "      <td>0</td>\n",
       "      <td>1</td>\n",
       "      <td>0</td>\n",
       "      <td>1</td>\n",
       "      <td>0</td>\n",
       "      <td>0</td>\n",
       "      <td>1</td>\n",
       "      <td>1</td>\n",
       "      <td>0</td>\n",
       "      <td>...</td>\n",
       "      <td>0</td>\n",
       "      <td>0</td>\n",
       "      <td>1</td>\n",
       "      <td>0</td>\n",
       "      <td>0</td>\n",
       "      <td>0</td>\n",
       "      <td>72</td>\n",
       "      <td>100.65</td>\n",
       "      <td>85.639068</td>\n",
       "      <td>0</td>\n",
       "    </tr>\n",
       "    <tr>\n",
       "      <th>5762</th>\n",
       "      <td>0</td>\n",
       "      <td>0</td>\n",
       "      <td>1</td>\n",
       "      <td>0</td>\n",
       "      <td>1</td>\n",
       "      <td>1</td>\n",
       "      <td>0</td>\n",
       "      <td>1</td>\n",
       "      <td>1</td>\n",
       "      <td>0</td>\n",
       "      <td>...</td>\n",
       "      <td>0</td>\n",
       "      <td>0</td>\n",
       "      <td>0</td>\n",
       "      <td>0</td>\n",
       "      <td>0</td>\n",
       "      <td>0</td>\n",
       "      <td>30</td>\n",
       "      <td>105.70</td>\n",
       "      <td>56.407446</td>\n",
       "      <td>0</td>\n",
       "    </tr>\n",
       "  </tbody>\n",
       "</table>\n",
       "<p>4219 rows × 31 columns</p>\n",
       "</div>"
      ],
      "text/plain": [
       "      gender  SeniorCitizen  Partner  Dependents  PhoneService  \\\n",
       "6406       1              0        0           0             0   \n",
       "6124       1              0        1           1             1   \n",
       "4051       1              0        1           0             1   \n",
       "3839       1              0        1           1             1   \n",
       "6908       0              0        0           1             1   \n",
       "...      ...            ...      ...         ...           ...   \n",
       "1323       1              0        1           0             1   \n",
       "4848       1              0        0           0             1   \n",
       "945        1              0        0           0             1   \n",
       "2685       1              0        1           0             1   \n",
       "5762       0              0        1           0             1   \n",
       "\n",
       "      PaperlessBilling  MultipleLines_No phone service  MultipleLines_Yes  \\\n",
       "6406                 1                               1                  0   \n",
       "6124                 1                               0                  0   \n",
       "4051                 1                               0                  1   \n",
       "3839                 0                               0                  0   \n",
       "6908                 0                               0                  0   \n",
       "...                ...                             ...                ...   \n",
       "1323                 1                               0                  1   \n",
       "4848                 1                               0                  1   \n",
       "945                  0                               0                  1   \n",
       "2685                 0                               0                  1   \n",
       "5762                 1                               0                  1   \n",
       "\n",
       "      InternetService_Fiber optic  InternetService_No  ...  \\\n",
       "6406                            0                   0  ...   \n",
       "6124                            0                   0  ...   \n",
       "4051                            1                   0  ...   \n",
       "3839                            0                   1  ...   \n",
       "6908                            0                   0  ...   \n",
       "...                           ...                 ...  ...   \n",
       "1323                            0                   1  ...   \n",
       "4848                            1                   0  ...   \n",
       "945                             1                   0  ...   \n",
       "2685                            1                   0  ...   \n",
       "5762                            1                   0  ...   \n",
       "\n",
       "      StreamingMovies_Yes  Contract_One year  Contract_Two year  \\\n",
       "6406                    1                  0                  0   \n",
       "6124                    0                  1                  0   \n",
       "4051                    1                  0                  1   \n",
       "3839                    0                  0                  0   \n",
       "6908                    0                  0                  0   \n",
       "...                   ...                ...                ...   \n",
       "1323                    0                  0                  1   \n",
       "4848                    1                  0                  0   \n",
       "945                     0                  0                  0   \n",
       "2685                    0                  0                  1   \n",
       "5762                    0                  0                  0   \n",
       "\n",
       "      PaymentMethod_Credit card (automatic)  PaymentMethod_Electronic check  \\\n",
       "6406                                      1                               0   \n",
       "6124                                      0                               0   \n",
       "4051                                      1                               0   \n",
       "3839                                      0                               0   \n",
       "6908                                      0                               1   \n",
       "...                                     ...                             ...   \n",
       "1323                                      0                               0   \n",
       "4848                                      0                               0   \n",
       "945                                       0                               0   \n",
       "2685                                      0                               0   \n",
       "5762                                      0                               0   \n",
       "\n",
       "      PaymentMethod_Mailed check  tenure  MonthlyCharges  TotalCharges  Churn  \n",
       "6406                           0      39           50.65     43.650888      0  \n",
       "6124                           1      57           59.30     57.221936      0  \n",
       "4051                           0      72           97.70     82.883653      0  \n",
       "3839                           1      15           20.05     16.861198      0  \n",
       "6908                           0       9           55.35     21.207310      1  \n",
       "...                          ...     ...             ...           ...    ...  \n",
       "1323                           0      71           24.65     41.353960      0  \n",
       "4848                           1       5           93.90     22.064678      1  \n",
       "945                            0       3           74.40     14.690133      1  \n",
       "2685                           0      72          100.65     85.639068      0  \n",
       "5762                           0      30          105.70     56.407446      0  \n",
       "\n",
       "[4219 rows x 31 columns]"
      ]
     },
     "execution_count": 270,
     "metadata": {},
     "output_type": "execute_result"
    }
   ],
   "source": [
    "X_train"
   ]
  },
  {
   "cell_type": "code",
   "execution_count": 271,
   "metadata": {},
   "outputs": [],
   "source": [
    "# y_train et X_train\n",
    "y_train= X_train['Churn']\n",
    "X_train = X_train.drop('Churn', axis=1)\n"
   ]
  },
  {
   "cell_type": "code",
   "execution_count": 272,
   "metadata": {},
   "outputs": [],
   "source": [
    "# Définition des données d'entrainement\n",
    "# Choix possibles :(X_train, y_train), (X_train_up, y_train_up) et (X_train_down, y_train_down)\n",
    "\n",
    "train_features = X_train_up\n",
    "train_labels = y_train_up"
   ]
  },
  {
   "cell_type": "markdown",
   "metadata": {},
   "source": [
    "Passons finalement à la normalisation des données"
   ]
  },
  {
   "cell_type": "code",
   "execution_count": 273,
   "metadata": {
    "scrolled": true
   },
   "outputs": [
    {
     "data": {
      "text/html": [
       "<div>\n",
       "<style scoped>\n",
       "    .dataframe tbody tr th:only-of-type {\n",
       "        vertical-align: middle;\n",
       "    }\n",
       "\n",
       "    .dataframe tbody tr th {\n",
       "        vertical-align: top;\n",
       "    }\n",
       "\n",
       "    .dataframe thead th {\n",
       "        text-align: right;\n",
       "    }\n",
       "</style>\n",
       "<table border=\"1\" class=\"dataframe\">\n",
       "  <thead>\n",
       "    <tr style=\"text-align: right;\">\n",
       "      <th></th>\n",
       "      <th>gender</th>\n",
       "      <th>SeniorCitizen</th>\n",
       "      <th>Partner</th>\n",
       "      <th>Dependents</th>\n",
       "      <th>PhoneService</th>\n",
       "      <th>PaperlessBilling</th>\n",
       "      <th>MultipleLines_No phone service</th>\n",
       "      <th>MultipleLines_Yes</th>\n",
       "      <th>InternetService_Fiber optic</th>\n",
       "      <th>InternetService_No</th>\n",
       "      <th>...</th>\n",
       "      <th>StreamingMovies_No internet service</th>\n",
       "      <th>StreamingMovies_Yes</th>\n",
       "      <th>Contract_One year</th>\n",
       "      <th>Contract_Two year</th>\n",
       "      <th>PaymentMethod_Credit card (automatic)</th>\n",
       "      <th>PaymentMethod_Electronic check</th>\n",
       "      <th>PaymentMethod_Mailed check</th>\n",
       "      <th>tenure</th>\n",
       "      <th>MonthlyCharges</th>\n",
       "      <th>TotalCharges</th>\n",
       "    </tr>\n",
       "  </thead>\n",
       "  <tbody>\n",
       "    <tr>\n",
       "      <th>6406</th>\n",
       "      <td>1</td>\n",
       "      <td>0</td>\n",
       "      <td>0</td>\n",
       "      <td>0</td>\n",
       "      <td>0</td>\n",
       "      <td>1</td>\n",
       "      <td>1</td>\n",
       "      <td>0</td>\n",
       "      <td>0</td>\n",
       "      <td>0</td>\n",
       "      <td>...</td>\n",
       "      <td>0</td>\n",
       "      <td>1</td>\n",
       "      <td>0</td>\n",
       "      <td>0</td>\n",
       "      <td>1</td>\n",
       "      <td>0</td>\n",
       "      <td>0</td>\n",
       "      <td>39</td>\n",
       "      <td>50.65</td>\n",
       "      <td>43.650888</td>\n",
       "    </tr>\n",
       "    <tr>\n",
       "      <th>6124</th>\n",
       "      <td>1</td>\n",
       "      <td>0</td>\n",
       "      <td>1</td>\n",
       "      <td>1</td>\n",
       "      <td>1</td>\n",
       "      <td>1</td>\n",
       "      <td>0</td>\n",
       "      <td>0</td>\n",
       "      <td>0</td>\n",
       "      <td>0</td>\n",
       "      <td>...</td>\n",
       "      <td>0</td>\n",
       "      <td>0</td>\n",
       "      <td>1</td>\n",
       "      <td>0</td>\n",
       "      <td>0</td>\n",
       "      <td>0</td>\n",
       "      <td>1</td>\n",
       "      <td>57</td>\n",
       "      <td>59.30</td>\n",
       "      <td>57.221936</td>\n",
       "    </tr>\n",
       "    <tr>\n",
       "      <th>4051</th>\n",
       "      <td>1</td>\n",
       "      <td>0</td>\n",
       "      <td>1</td>\n",
       "      <td>0</td>\n",
       "      <td>1</td>\n",
       "      <td>1</td>\n",
       "      <td>0</td>\n",
       "      <td>1</td>\n",
       "      <td>1</td>\n",
       "      <td>0</td>\n",
       "      <td>...</td>\n",
       "      <td>0</td>\n",
       "      <td>1</td>\n",
       "      <td>0</td>\n",
       "      <td>1</td>\n",
       "      <td>1</td>\n",
       "      <td>0</td>\n",
       "      <td>0</td>\n",
       "      <td>72</td>\n",
       "      <td>97.70</td>\n",
       "      <td>82.883653</td>\n",
       "    </tr>\n",
       "    <tr>\n",
       "      <th>3839</th>\n",
       "      <td>1</td>\n",
       "      <td>0</td>\n",
       "      <td>1</td>\n",
       "      <td>1</td>\n",
       "      <td>1</td>\n",
       "      <td>0</td>\n",
       "      <td>0</td>\n",
       "      <td>0</td>\n",
       "      <td>0</td>\n",
       "      <td>1</td>\n",
       "      <td>...</td>\n",
       "      <td>1</td>\n",
       "      <td>0</td>\n",
       "      <td>0</td>\n",
       "      <td>0</td>\n",
       "      <td>0</td>\n",
       "      <td>0</td>\n",
       "      <td>1</td>\n",
       "      <td>15</td>\n",
       "      <td>20.05</td>\n",
       "      <td>16.861198</td>\n",
       "    </tr>\n",
       "    <tr>\n",
       "      <th>2523</th>\n",
       "      <td>1</td>\n",
       "      <td>0</td>\n",
       "      <td>1</td>\n",
       "      <td>1</td>\n",
       "      <td>1</td>\n",
       "      <td>0</td>\n",
       "      <td>0</td>\n",
       "      <td>0</td>\n",
       "      <td>0</td>\n",
       "      <td>1</td>\n",
       "      <td>...</td>\n",
       "      <td>1</td>\n",
       "      <td>0</td>\n",
       "      <td>0</td>\n",
       "      <td>1</td>\n",
       "      <td>1</td>\n",
       "      <td>0</td>\n",
       "      <td>0</td>\n",
       "      <td>47</td>\n",
       "      <td>20.25</td>\n",
       "      <td>29.553342</td>\n",
       "    </tr>\n",
       "  </tbody>\n",
       "</table>\n",
       "<p>5 rows × 30 columns</p>\n",
       "</div>"
      ],
      "text/plain": [
       "      gender  SeniorCitizen  Partner  Dependents  PhoneService  \\\n",
       "6406       1              0        0           0             0   \n",
       "6124       1              0        1           1             1   \n",
       "4051       1              0        1           0             1   \n",
       "3839       1              0        1           1             1   \n",
       "2523       1              0        1           1             1   \n",
       "\n",
       "      PaperlessBilling  MultipleLines_No phone service  MultipleLines_Yes  \\\n",
       "6406                 1                               1                  0   \n",
       "6124                 1                               0                  0   \n",
       "4051                 1                               0                  1   \n",
       "3839                 0                               0                  0   \n",
       "2523                 0                               0                  0   \n",
       "\n",
       "      InternetService_Fiber optic  InternetService_No  ...  \\\n",
       "6406                            0                   0  ...   \n",
       "6124                            0                   0  ...   \n",
       "4051                            1                   0  ...   \n",
       "3839                            0                   1  ...   \n",
       "2523                            0                   1  ...   \n",
       "\n",
       "      StreamingMovies_No internet service  StreamingMovies_Yes  \\\n",
       "6406                                    0                    1   \n",
       "6124                                    0                    0   \n",
       "4051                                    0                    1   \n",
       "3839                                    1                    0   \n",
       "2523                                    1                    0   \n",
       "\n",
       "      Contract_One year  Contract_Two year  \\\n",
       "6406                  0                  0   \n",
       "6124                  1                  0   \n",
       "4051                  0                  1   \n",
       "3839                  0                  0   \n",
       "2523                  0                  1   \n",
       "\n",
       "      PaymentMethod_Credit card (automatic)  PaymentMethod_Electronic check  \\\n",
       "6406                                      1                               0   \n",
       "6124                                      0                               0   \n",
       "4051                                      1                               0   \n",
       "3839                                      0                               0   \n",
       "2523                                      1                               0   \n",
       "\n",
       "      PaymentMethod_Mailed check  tenure  MonthlyCharges  TotalCharges  \n",
       "6406                           0      39           50.65     43.650888  \n",
       "6124                           1      57           59.30     57.221936  \n",
       "4051                           0      72           97.70     82.883653  \n",
       "3839                           1      15           20.05     16.861198  \n",
       "2523                           0      47           20.25     29.553342  \n",
       "\n",
       "[5 rows x 30 columns]"
      ]
     },
     "execution_count": 273,
     "metadata": {},
     "output_type": "execute_result"
    }
   ],
   "source": [
    "train_features.head()"
   ]
  },
  {
   "cell_type": "code",
   "execution_count": 274,
   "metadata": {},
   "outputs": [],
   "source": [
    "# Normalisation des variables indépendantes des différents ensembles de données\n",
    "# Vous pouvez choisir de standardiser au lieu de normaliser\n",
    "\n",
    "scaler = MinMaxScaler()\n",
    "mod_scaler = scaler.fit(train_features)\n",
    "train_features = mod_scaler.transform(train_features)\n",
    "X_val = mod_scaler.transform(X_val)\n",
    "X_test = mod_scaler.transform(X_test)\n",
    "\n",
    "# Retranformation en Dataframe car on a des tableaux numpy\n",
    "train_features = pd.DataFrame(train_features, columns=X.columns)\n",
    "X_val = pd.DataFrame(X_val, columns=X.columns)\n",
    "X_test = pd.DataFrame(X_test, columns=X.columns)"
   ]
  },
  {
   "cell_type": "code",
   "execution_count": 275,
   "metadata": {},
   "outputs": [
    {
     "data": {
      "text/html": [
       "<div>\n",
       "<style scoped>\n",
       "    .dataframe tbody tr th:only-of-type {\n",
       "        vertical-align: middle;\n",
       "    }\n",
       "\n",
       "    .dataframe tbody tr th {\n",
       "        vertical-align: top;\n",
       "    }\n",
       "\n",
       "    .dataframe thead th {\n",
       "        text-align: right;\n",
       "    }\n",
       "</style>\n",
       "<table border=\"1\" class=\"dataframe\">\n",
       "  <thead>\n",
       "    <tr style=\"text-align: right;\">\n",
       "      <th></th>\n",
       "      <th>count</th>\n",
       "      <th>mean</th>\n",
       "      <th>std</th>\n",
       "      <th>min</th>\n",
       "      <th>25%</th>\n",
       "      <th>50%</th>\n",
       "      <th>75%</th>\n",
       "      <th>max</th>\n",
       "    </tr>\n",
       "  </thead>\n",
       "  <tbody>\n",
       "    <tr>\n",
       "      <th>gender</th>\n",
       "      <td>6196.0</td>\n",
       "      <td>0.503551</td>\n",
       "      <td>0.500028</td>\n",
       "      <td>0.0</td>\n",
       "      <td>0.000000</td>\n",
       "      <td>1.000000</td>\n",
       "      <td>1.000000</td>\n",
       "      <td>1.0</td>\n",
       "    </tr>\n",
       "    <tr>\n",
       "      <th>SeniorCitizen</th>\n",
       "      <td>6196.0</td>\n",
       "      <td>0.000000</td>\n",
       "      <td>0.000000</td>\n",
       "      <td>0.0</td>\n",
       "      <td>0.000000</td>\n",
       "      <td>0.000000</td>\n",
       "      <td>0.000000</td>\n",
       "      <td>0.0</td>\n",
       "    </tr>\n",
       "    <tr>\n",
       "      <th>Partner</th>\n",
       "      <td>6196.0</td>\n",
       "      <td>0.438509</td>\n",
       "      <td>0.496244</td>\n",
       "      <td>0.0</td>\n",
       "      <td>0.000000</td>\n",
       "      <td>0.000000</td>\n",
       "      <td>1.000000</td>\n",
       "      <td>1.0</td>\n",
       "    </tr>\n",
       "    <tr>\n",
       "      <th>Dependents</th>\n",
       "      <td>6196.0</td>\n",
       "      <td>0.248870</td>\n",
       "      <td>0.432393</td>\n",
       "      <td>0.0</td>\n",
       "      <td>0.000000</td>\n",
       "      <td>0.000000</td>\n",
       "      <td>0.000000</td>\n",
       "      <td>1.0</td>\n",
       "    </tr>\n",
       "    <tr>\n",
       "      <th>PhoneService</th>\n",
       "      <td>6196.0</td>\n",
       "      <td>0.904939</td>\n",
       "      <td>0.293323</td>\n",
       "      <td>0.0</td>\n",
       "      <td>1.000000</td>\n",
       "      <td>1.000000</td>\n",
       "      <td>1.000000</td>\n",
       "      <td>1.0</td>\n",
       "    </tr>\n",
       "    <tr>\n",
       "      <th>PaperlessBilling</th>\n",
       "      <td>6196.0</td>\n",
       "      <td>0.650904</td>\n",
       "      <td>0.476723</td>\n",
       "      <td>0.0</td>\n",
       "      <td>0.000000</td>\n",
       "      <td>1.000000</td>\n",
       "      <td>1.000000</td>\n",
       "      <td>1.0</td>\n",
       "    </tr>\n",
       "    <tr>\n",
       "      <th>MultipleLines_No phone service</th>\n",
       "      <td>6196.0</td>\n",
       "      <td>0.095061</td>\n",
       "      <td>0.293323</td>\n",
       "      <td>0.0</td>\n",
       "      <td>0.000000</td>\n",
       "      <td>0.000000</td>\n",
       "      <td>0.000000</td>\n",
       "      <td>1.0</td>\n",
       "    </tr>\n",
       "    <tr>\n",
       "      <th>MultipleLines_Yes</th>\n",
       "      <td>6196.0</td>\n",
       "      <td>0.439638</td>\n",
       "      <td>0.496383</td>\n",
       "      <td>0.0</td>\n",
       "      <td>0.000000</td>\n",
       "      <td>0.000000</td>\n",
       "      <td>1.000000</td>\n",
       "      <td>1.0</td>\n",
       "    </tr>\n",
       "    <tr>\n",
       "      <th>InternetService_Fiber optic</th>\n",
       "      <td>6196.0</td>\n",
       "      <td>0.530826</td>\n",
       "      <td>0.499089</td>\n",
       "      <td>0.0</td>\n",
       "      <td>0.000000</td>\n",
       "      <td>1.000000</td>\n",
       "      <td>1.000000</td>\n",
       "      <td>1.0</td>\n",
       "    </tr>\n",
       "    <tr>\n",
       "      <th>InternetService_No</th>\n",
       "      <td>6196.0</td>\n",
       "      <td>0.166720</td>\n",
       "      <td>0.372756</td>\n",
       "      <td>0.0</td>\n",
       "      <td>0.000000</td>\n",
       "      <td>0.000000</td>\n",
       "      <td>0.000000</td>\n",
       "      <td>1.0</td>\n",
       "    </tr>\n",
       "    <tr>\n",
       "      <th>OnlineSecurity_No internet service</th>\n",
       "      <td>6196.0</td>\n",
       "      <td>0.166720</td>\n",
       "      <td>0.372756</td>\n",
       "      <td>0.0</td>\n",
       "      <td>0.000000</td>\n",
       "      <td>0.000000</td>\n",
       "      <td>0.000000</td>\n",
       "      <td>1.0</td>\n",
       "    </tr>\n",
       "    <tr>\n",
       "      <th>OnlineSecurity_Yes</th>\n",
       "      <td>6196.0</td>\n",
       "      <td>0.243706</td>\n",
       "      <td>0.429352</td>\n",
       "      <td>0.0</td>\n",
       "      <td>0.000000</td>\n",
       "      <td>0.000000</td>\n",
       "      <td>0.000000</td>\n",
       "      <td>1.0</td>\n",
       "    </tr>\n",
       "    <tr>\n",
       "      <th>OnlineBackup_No internet service</th>\n",
       "      <td>6196.0</td>\n",
       "      <td>0.166720</td>\n",
       "      <td>0.372756</td>\n",
       "      <td>0.0</td>\n",
       "      <td>0.000000</td>\n",
       "      <td>0.000000</td>\n",
       "      <td>0.000000</td>\n",
       "      <td>1.0</td>\n",
       "    </tr>\n",
       "    <tr>\n",
       "      <th>OnlineBackup_Yes</th>\n",
       "      <td>6196.0</td>\n",
       "      <td>0.315203</td>\n",
       "      <td>0.464634</td>\n",
       "      <td>0.0</td>\n",
       "      <td>0.000000</td>\n",
       "      <td>0.000000</td>\n",
       "      <td>1.000000</td>\n",
       "      <td>1.0</td>\n",
       "    </tr>\n",
       "    <tr>\n",
       "      <th>DeviceProtection_No internet service</th>\n",
       "      <td>6196.0</td>\n",
       "      <td>0.166720</td>\n",
       "      <td>0.372756</td>\n",
       "      <td>0.0</td>\n",
       "      <td>0.000000</td>\n",
       "      <td>0.000000</td>\n",
       "      <td>0.000000</td>\n",
       "      <td>1.0</td>\n",
       "    </tr>\n",
       "    <tr>\n",
       "      <th>DeviceProtection_Yes</th>\n",
       "      <td>6196.0</td>\n",
       "      <td>0.323273</td>\n",
       "      <td>0.467764</td>\n",
       "      <td>0.0</td>\n",
       "      <td>0.000000</td>\n",
       "      <td>0.000000</td>\n",
       "      <td>1.000000</td>\n",
       "      <td>1.0</td>\n",
       "    </tr>\n",
       "    <tr>\n",
       "      <th>TechSupport_No internet service</th>\n",
       "      <td>6196.0</td>\n",
       "      <td>0.166720</td>\n",
       "      <td>0.372756</td>\n",
       "      <td>0.0</td>\n",
       "      <td>0.000000</td>\n",
       "      <td>0.000000</td>\n",
       "      <td>0.000000</td>\n",
       "      <td>1.0</td>\n",
       "    </tr>\n",
       "    <tr>\n",
       "      <th>TechSupport_Yes</th>\n",
       "      <td>6196.0</td>\n",
       "      <td>0.249032</td>\n",
       "      <td>0.432487</td>\n",
       "      <td>0.0</td>\n",
       "      <td>0.000000</td>\n",
       "      <td>0.000000</td>\n",
       "      <td>0.000000</td>\n",
       "      <td>1.0</td>\n",
       "    </tr>\n",
       "    <tr>\n",
       "      <th>StreamingTV_No internet service</th>\n",
       "      <td>6196.0</td>\n",
       "      <td>0.166720</td>\n",
       "      <td>0.372756</td>\n",
       "      <td>0.0</td>\n",
       "      <td>0.000000</td>\n",
       "      <td>0.000000</td>\n",
       "      <td>0.000000</td>\n",
       "      <td>1.0</td>\n",
       "    </tr>\n",
       "    <tr>\n",
       "      <th>StreamingTV_Yes</th>\n",
       "      <td>6196.0</td>\n",
       "      <td>0.403809</td>\n",
       "      <td>0.490700</td>\n",
       "      <td>0.0</td>\n",
       "      <td>0.000000</td>\n",
       "      <td>0.000000</td>\n",
       "      <td>1.000000</td>\n",
       "      <td>1.0</td>\n",
       "    </tr>\n",
       "    <tr>\n",
       "      <th>StreamingMovies_No internet service</th>\n",
       "      <td>6196.0</td>\n",
       "      <td>0.166720</td>\n",
       "      <td>0.372756</td>\n",
       "      <td>0.0</td>\n",
       "      <td>0.000000</td>\n",
       "      <td>0.000000</td>\n",
       "      <td>0.000000</td>\n",
       "      <td>1.0</td>\n",
       "    </tr>\n",
       "    <tr>\n",
       "      <th>StreamingMovies_Yes</th>\n",
       "      <td>6196.0</td>\n",
       "      <td>0.413331</td>\n",
       "      <td>0.492471</td>\n",
       "      <td>0.0</td>\n",
       "      <td>0.000000</td>\n",
       "      <td>0.000000</td>\n",
       "      <td>1.000000</td>\n",
       "      <td>1.0</td>\n",
       "    </tr>\n",
       "    <tr>\n",
       "      <th>Contract_One year</th>\n",
       "      <td>6196.0</td>\n",
       "      <td>0.165752</td>\n",
       "      <td>0.371888</td>\n",
       "      <td>0.0</td>\n",
       "      <td>0.000000</td>\n",
       "      <td>0.000000</td>\n",
       "      <td>0.000000</td>\n",
       "      <td>1.0</td>\n",
       "    </tr>\n",
       "    <tr>\n",
       "      <th>Contract_Two year</th>\n",
       "      <td>6196.0</td>\n",
       "      <td>0.168496</td>\n",
       "      <td>0.374336</td>\n",
       "      <td>0.0</td>\n",
       "      <td>0.000000</td>\n",
       "      <td>0.000000</td>\n",
       "      <td>0.000000</td>\n",
       "      <td>1.0</td>\n",
       "    </tr>\n",
       "    <tr>\n",
       "      <th>PaymentMethod_Credit card (automatic)</th>\n",
       "      <td>6196.0</td>\n",
       "      <td>0.186572</td>\n",
       "      <td>0.389599</td>\n",
       "      <td>0.0</td>\n",
       "      <td>0.000000</td>\n",
       "      <td>0.000000</td>\n",
       "      <td>0.000000</td>\n",
       "      <td>1.0</td>\n",
       "    </tr>\n",
       "    <tr>\n",
       "      <th>PaymentMethod_Electronic check</th>\n",
       "      <td>6196.0</td>\n",
       "      <td>0.419787</td>\n",
       "      <td>0.493564</td>\n",
       "      <td>0.0</td>\n",
       "      <td>0.000000</td>\n",
       "      <td>0.000000</td>\n",
       "      <td>1.000000</td>\n",
       "      <td>1.0</td>\n",
       "    </tr>\n",
       "    <tr>\n",
       "      <th>PaymentMethod_Mailed check</th>\n",
       "      <td>6196.0</td>\n",
       "      <td>0.205939</td>\n",
       "      <td>0.404419</td>\n",
       "      <td>0.0</td>\n",
       "      <td>0.000000</td>\n",
       "      <td>0.000000</td>\n",
       "      <td>0.000000</td>\n",
       "      <td>1.0</td>\n",
       "    </tr>\n",
       "    <tr>\n",
       "      <th>tenure</th>\n",
       "      <td>6196.0</td>\n",
       "      <td>0.377363</td>\n",
       "      <td>0.337783</td>\n",
       "      <td>0.0</td>\n",
       "      <td>0.056338</td>\n",
       "      <td>0.281690</td>\n",
       "      <td>0.676056</td>\n",
       "      <td>1.0</td>\n",
       "    </tr>\n",
       "    <tr>\n",
       "      <th>MonthlyCharges</th>\n",
       "      <td>6196.0</td>\n",
       "      <td>0.496667</td>\n",
       "      <td>0.287344</td>\n",
       "      <td>0.0</td>\n",
       "      <td>0.269652</td>\n",
       "      <td>0.563682</td>\n",
       "      <td>0.724876</td>\n",
       "      <td>1.0</td>\n",
       "    </tr>\n",
       "    <tr>\n",
       "      <th>TotalCharges</th>\n",
       "      <td>6196.0</td>\n",
       "      <td>0.379936</td>\n",
       "      <td>0.273721</td>\n",
       "      <td>0.0</td>\n",
       "      <td>0.142192</td>\n",
       "      <td>0.332135</td>\n",
       "      <td>0.591234</td>\n",
       "      <td>1.0</td>\n",
       "    </tr>\n",
       "  </tbody>\n",
       "</table>\n",
       "</div>"
      ],
      "text/plain": [
       "                                        count      mean       std  min  \\\n",
       "gender                                 6196.0  0.503551  0.500028  0.0   \n",
       "SeniorCitizen                          6196.0  0.000000  0.000000  0.0   \n",
       "Partner                                6196.0  0.438509  0.496244  0.0   \n",
       "Dependents                             6196.0  0.248870  0.432393  0.0   \n",
       "PhoneService                           6196.0  0.904939  0.293323  0.0   \n",
       "PaperlessBilling                       6196.0  0.650904  0.476723  0.0   \n",
       "MultipleLines_No phone service         6196.0  0.095061  0.293323  0.0   \n",
       "MultipleLines_Yes                      6196.0  0.439638  0.496383  0.0   \n",
       "InternetService_Fiber optic            6196.0  0.530826  0.499089  0.0   \n",
       "InternetService_No                     6196.0  0.166720  0.372756  0.0   \n",
       "OnlineSecurity_No internet service     6196.0  0.166720  0.372756  0.0   \n",
       "OnlineSecurity_Yes                     6196.0  0.243706  0.429352  0.0   \n",
       "OnlineBackup_No internet service       6196.0  0.166720  0.372756  0.0   \n",
       "OnlineBackup_Yes                       6196.0  0.315203  0.464634  0.0   \n",
       "DeviceProtection_No internet service   6196.0  0.166720  0.372756  0.0   \n",
       "DeviceProtection_Yes                   6196.0  0.323273  0.467764  0.0   \n",
       "TechSupport_No internet service        6196.0  0.166720  0.372756  0.0   \n",
       "TechSupport_Yes                        6196.0  0.249032  0.432487  0.0   \n",
       "StreamingTV_No internet service        6196.0  0.166720  0.372756  0.0   \n",
       "StreamingTV_Yes                        6196.0  0.403809  0.490700  0.0   \n",
       "StreamingMovies_No internet service    6196.0  0.166720  0.372756  0.0   \n",
       "StreamingMovies_Yes                    6196.0  0.413331  0.492471  0.0   \n",
       "Contract_One year                      6196.0  0.165752  0.371888  0.0   \n",
       "Contract_Two year                      6196.0  0.168496  0.374336  0.0   \n",
       "PaymentMethod_Credit card (automatic)  6196.0  0.186572  0.389599  0.0   \n",
       "PaymentMethod_Electronic check         6196.0  0.419787  0.493564  0.0   \n",
       "PaymentMethod_Mailed check             6196.0  0.205939  0.404419  0.0   \n",
       "tenure                                 6196.0  0.377363  0.337783  0.0   \n",
       "MonthlyCharges                         6196.0  0.496667  0.287344  0.0   \n",
       "TotalCharges                           6196.0  0.379936  0.273721  0.0   \n",
       "\n",
       "                                            25%       50%       75%  max  \n",
       "gender                                 0.000000  1.000000  1.000000  1.0  \n",
       "SeniorCitizen                          0.000000  0.000000  0.000000  0.0  \n",
       "Partner                                0.000000  0.000000  1.000000  1.0  \n",
       "Dependents                             0.000000  0.000000  0.000000  1.0  \n",
       "PhoneService                           1.000000  1.000000  1.000000  1.0  \n",
       "PaperlessBilling                       0.000000  1.000000  1.000000  1.0  \n",
       "MultipleLines_No phone service         0.000000  0.000000  0.000000  1.0  \n",
       "MultipleLines_Yes                      0.000000  0.000000  1.000000  1.0  \n",
       "InternetService_Fiber optic            0.000000  1.000000  1.000000  1.0  \n",
       "InternetService_No                     0.000000  0.000000  0.000000  1.0  \n",
       "OnlineSecurity_No internet service     0.000000  0.000000  0.000000  1.0  \n",
       "OnlineSecurity_Yes                     0.000000  0.000000  0.000000  1.0  \n",
       "OnlineBackup_No internet service       0.000000  0.000000  0.000000  1.0  \n",
       "OnlineBackup_Yes                       0.000000  0.000000  1.000000  1.0  \n",
       "DeviceProtection_No internet service   0.000000  0.000000  0.000000  1.0  \n",
       "DeviceProtection_Yes                   0.000000  0.000000  1.000000  1.0  \n",
       "TechSupport_No internet service        0.000000  0.000000  0.000000  1.0  \n",
       "TechSupport_Yes                        0.000000  0.000000  0.000000  1.0  \n",
       "StreamingTV_No internet service        0.000000  0.000000  0.000000  1.0  \n",
       "StreamingTV_Yes                        0.000000  0.000000  1.000000  1.0  \n",
       "StreamingMovies_No internet service    0.000000  0.000000  0.000000  1.0  \n",
       "StreamingMovies_Yes                    0.000000  0.000000  1.000000  1.0  \n",
       "Contract_One year                      0.000000  0.000000  0.000000  1.0  \n",
       "Contract_Two year                      0.000000  0.000000  0.000000  1.0  \n",
       "PaymentMethod_Credit card (automatic)  0.000000  0.000000  0.000000  1.0  \n",
       "PaymentMethod_Electronic check         0.000000  0.000000  1.000000  1.0  \n",
       "PaymentMethod_Mailed check             0.000000  0.000000  0.000000  1.0  \n",
       "tenure                                 0.056338  0.281690  0.676056  1.0  \n",
       "MonthlyCharges                         0.269652  0.563682  0.724876  1.0  \n",
       "TotalCharges                           0.142192  0.332135  0.591234  1.0  "
      ]
     },
     "execution_count": 275,
     "metadata": {},
     "output_type": "execute_result"
    }
   ],
   "source": [
    "# Toutes les valeurs sont entre 0 et 1\n",
    "train_features.describe().T"
   ]
  },
  {
   "cell_type": "markdown",
   "metadata": {},
   "source": [
    "Nous avons terminé les prétraitements des données et pasons à la modelisation"
   ]
  },
  {
   "cell_type": "markdown",
   "metadata": {},
   "source": [
    "# Modélisation"
   ]
  },
  {
   "cell_type": "markdown",
   "metadata": {},
   "source": [
    "Nous choisissons le F1 score pour évaluer la performance de chaque modèle qui sera construit."
   ]
  },
  {
   "cell_type": "code",
   "execution_count": 276,
   "metadata": {},
   "outputs": [
    {
     "name": "stdout",
     "output_type": "stream",
     "text": [
      "              precision    recall  f1-score   support\n",
      "\n",
      "           0       0.83      0.85      0.84      1032\n",
      "           1       0.56      0.53      0.55       374\n",
      "\n",
      "    accuracy                           0.77      1406\n",
      "   macro avg       0.70      0.69      0.69      1406\n",
      "weighted avg       0.76      0.77      0.76      1406\n",
      "\n"
     ]
    }
   ],
   "source": [
    "# Sélection des meilleures variables prédictric\n",
    "rf = RandomForestClassifier()\n",
    "rf.fit(train_features, train_labels)\n",
    "print(classification_report(y_val, rf.predict(X_val)))"
   ]
  },
  {
   "cell_type": "code",
   "execution_count": 277,
   "metadata": {},
   "outputs": [
    {
     "data": {
      "image/png": "[encoded data removed]",
      "text/plain": [
       "<Figure size 1008x432 with 1 Axes>"
      ]
     },
     "metadata": {
      "needs_background": "light"
     },
     "output_type": "display_data"
    }
   ],
   "source": [
    "# Importance des variables indépendantes\n",
    "vars_imp = pd.Series(rf.feature_importances_, index=train_features.columns).sort_values(ascending=False)\n",
    "plt.figure(figsize=(14, 6))\n",
    "plt.xticks(rotation=90)\n",
    "sns.barplot(x = vars_imp.index, y=vars_imp)\n",
    "plt.xlabel(\"Variables\")\n",
    "plt.ylabel(\"Score d'importance de la variable\")\n",
    "plt.title(\"Importance des variables predictrices\")\n",
    "plt.show()"
   ]
  },
  {
   "cell_type": "code",
   "execution_count": 278,
   "metadata": {},
   "outputs": [
    {
     "data": {
      "text/plain": [
       "TotalCharges                             0.175384\n",
       "tenure                                   0.168633\n",
       "MonthlyCharges                           0.153863\n",
       "Contract_Two year                        0.060724\n",
       "PaymentMethod_Electronic check           0.042698\n",
       "InternetService_Fiber optic              0.040451\n",
       "Contract_One year                        0.032492\n",
       "gender                                   0.025387\n",
       "OnlineSecurity_Yes                       0.025065\n",
       "PaperlessBilling                         0.023618\n",
       "TechSupport_Yes                          0.023310\n",
       "Partner                                  0.021829\n",
       "OnlineBackup_Yes                         0.020661\n",
       "Dependents                               0.019740\n",
       "MultipleLines_Yes                        0.018056\n",
       "StreamingMovies_Yes                      0.017793\n",
       "DeviceProtection_Yes                     0.017567\n",
       "StreamingTV_Yes                          0.016391\n",
       "PaymentMethod_Credit card (automatic)    0.014314\n",
       "PaymentMethod_Mailed check               0.012373\n",
       "DeviceProtection_No internet service     0.012357\n",
       "StreamingMovies_No internet service      0.010018\n",
       "InternetService_No                       0.008953\n",
       "OnlineBackup_No internet service         0.008459\n",
       "StreamingTV_No internet service          0.007955\n",
       "TechSupport_No internet service          0.007954\n",
       "OnlineSecurity_No internet service       0.005120\n",
       "MultipleLines_No phone service           0.004421\n",
       "PhoneService                             0.004413\n",
       "SeniorCitizen                            0.000000\n",
       "dtype: float64"
      ]
     },
     "execution_count": 278,
     "metadata": {},
     "output_type": "execute_result"
    }
   ],
   "source": [
    "# Affichage de vars_imp \n",
    "vars_imp"
   ]
  },
  {
   "cell_type": "code",
   "execution_count": 279,
   "metadata": {},
   "outputs": [],
   "source": [
    "#Variables sélectionnées pour les algorithmes\n",
    "seuil = 0.004\n",
    "vars_selected = vars_imp[vars_imp > seuil].index.to_list()\n",
    "train_features = train_features[vars_selected]\n",
    "X_val = X_val[vars_selected]\n",
    "X_test = X_test[vars_selected]"
   ]
  },
  {
   "cell_type": "code",
   "execution_count": 280,
   "metadata": {},
   "outputs": [
    {
     "data": {
      "text/plain": [
       "29"
      ]
     },
     "execution_count": 280,
     "metadata": {},
     "output_type": "execute_result"
    }
   ],
   "source": [
    "# Nombre de variables prédictrices\n",
    "len(train_features.columns)"
   ]
  },
  {
   "cell_type": "markdown",
   "metadata": {},
   "source": [
    "Notre objectif est de construire un modèle de classification qui prédit si un client va se désabonner ou non. Nous utiliserons différents algorithmes (Logistic Regression, Random Forest, Gradient Boosting, Classificateur Perceptron Multicouche et Support Vector Machine) afin de comparer leurs performances et de choisir le meilleur modele."
   ]
  },
  {
   "cell_type": "markdown",
   "metadata": {},
   "source": [
    "## Modèle de regréssion lineaire"
   ]
  },
  {
   "cell_type": "code",
   "execution_count": 281,
   "metadata": {},
   "outputs": [],
   "source": [
    "# Dictionnaire des hyperparamètres\n",
    "param_grid = {'C':[0.001, 0.01, 1, 10, 50, 100, 500]}"
   ]
  },
  {
   "cell_type": "code",
   "execution_count": 282,
   "metadata": {},
   "outputs": [],
   "source": [
    "# Objet GridSearchCV,\n",
    "grid_logreg_class = GridSearchCV(estimator=LogisticRegression(random_state=seed, max_iter = 500), \n",
    "                                 param_grid = param_grid,\n",
    "                                 scoring='f1', \n",
    "                                 cv=5)"
   ]
  },
  {
   "cell_type": "code",
   "execution_count": 283,
   "metadata": {},
   "outputs": [],
   "source": [
    "# Entrainement de l'algorithme\n",
    "logreg_model = grid_logreg_class.fit(train_features, train_labels)"
   ]
  },
  {
   "cell_type": "code",
   "execution_count": 284,
   "metadata": {},
   "outputs": [
    {
     "name": "stdout",
     "output_type": "stream",
     "text": [
      "0.788\n",
      "LogisticRegression(C=100, max_iter=500, random_state=1111)\n"
     ]
    }
   ],
   "source": [
    "# Meilleur score et meilleur hyperparamètre\n",
    "print(round(logreg_model.best_score_,3))\n",
    "print(logreg_model.best_estimator_)"
   ]
  },
  {
   "cell_type": "code",
   "execution_count": 285,
   "metadata": {},
   "outputs": [],
   "source": [
    "# Fonction d'évaluation de la performance d'un modèle\n",
    "\n",
    "def model_evaluation(model, features, labels):\n",
    "    pred = model.predict(features)\n",
    "    print(classification_report(labels, pred))\n"
   ]
  },
  {
   "cell_type": "code",
   "execution_count": 286,
   "metadata": {},
   "outputs": [
    {
     "name": "stdout",
     "output_type": "stream",
     "text": [
      "              precision    recall  f1-score   support\n",
      "\n",
      "           0       0.89      0.74      0.81      1032\n",
      "           1       0.51      0.74      0.61       374\n",
      "\n",
      "    accuracy                           0.74      1406\n",
      "   macro avg       0.70      0.74      0.71      1406\n",
      "weighted avg       0.79      0.74      0.75      1406\n",
      "\n"
     ]
    }
   ],
   "source": [
    "# Evaluation du modèle de régression logistique\n",
    "model_evaluation(logreg_model, X_val, y_val)"
   ]
  },
  {
   "cell_type": "markdown",
   "metadata": {},
   "source": [
    "Appliquons l'algorithme Recursive Feature Eliminator (RFE) sur le modèle afin de voir s'il garde les mêmes performances lorsqu'on réduit le nombre de prédicteurs. En effet, plus le modèle est complexe, plus il est difficile de l'interpréter. "
   ]
  },
  {
   "cell_type": "code",
   "execution_count": 287,
   "metadata": {},
   "outputs": [],
   "source": [
    "# Création d'une fonction de construction d'un modèle avec utilisation de l'algorithme RFE\n",
    "def model_with_rfe(model):\n",
    "    rfe_model = RFE(estimator=model, verbose=0)\n",
    "    rfe_model.fit(train_features, train_labels)\n",
    "    mask = rfe_model.support_\n",
    "    reduced_X = train_features.loc[:, mask]\n",
    "    print(reduced_X.columns)\n",
    "    return rfe_model\n"
   ]
  },
  {
   "cell_type": "code",
   "execution_count": 288,
   "metadata": {},
   "outputs": [
    {
     "name": "stdout",
     "output_type": "stream",
     "text": [
      "Index(['TotalCharges', 'MonthlyCharges', 'Contract_Two year',\n",
      "       'PaymentMethod_Electronic check', 'InternetService_Fiber optic',\n",
      "       'Contract_One year', 'PaperlessBilling', 'MultipleLines_Yes',\n",
      "       'StreamingMovies_Yes', 'StreamingTV_Yes',\n",
      "       'DeviceProtection_No internet service',\n",
      "       'StreamingMovies_No internet service',\n",
      "       'StreamingTV_No internet service', 'TechSupport_No internet service'],\n",
      "      dtype='object')\n"
     ]
    },
    {
     "data": {
      "text/plain": [
       "RFE(estimator=LogisticRegression(C=100, max_iter=500, random_state=1111))"
      ]
     },
     "execution_count": 288,
     "metadata": {},
     "output_type": "execute_result"
    }
   ],
   "source": [
    "# Logistic Regression RFE\n",
    "rfe_logreg_model = model_with_rfe(logreg_model.best_estimator_)\n",
    "rfe_logreg_model"
   ]
  },
  {
   "cell_type": "code",
   "execution_count": 289,
   "metadata": {},
   "outputs": [
    {
     "name": "stdout",
     "output_type": "stream",
     "text": [
      "              precision    recall  f1-score   support\n",
      "\n",
      "           0       0.89      0.74      0.81      1032\n",
      "           1       0.51      0.74      0.60       374\n",
      "\n",
      "    accuracy                           0.74      1406\n",
      "   macro avg       0.70      0.74      0.70      1406\n",
      "weighted avg       0.79      0.74      0.75      1406\n",
      "\n"
     ]
    }
   ],
   "source": [
    "#Evaluation du modèle de régression logistique avec RFE\n",
    "model_evaluation(rfe_logreg_model, X_val, y_val)"
   ]
  },
  {
   "cell_type": "markdown",
   "metadata": {},
   "source": [
    "#### Le RFE a réduit le nombre de prédicteurs de 28 à 14 et n'a pas amélioré la performance du modèle. \n",
    "Passons à l'algorithme de forêt aléatoire."
   ]
  },
  {
   "cell_type": "markdown",
   "metadata": {},
   "source": [
    "## Modèle de Fôret aléatoire"
   ]
  },
  {
   "cell_type": "code",
   "execution_count": 290,
   "metadata": {},
   "outputs": [],
   "source": [
    "# Dictionnaire des hyperparamètres\n",
    "param_grid_rf = {'n_estimators': [10, 50, 100, 500, 1000],\n",
    "                 'max_depth': [3, 5, 10, 20, None]}"
   ]
  },
  {
   "cell_type": "code",
   "execution_count": 291,
   "metadata": {},
   "outputs": [],
   "source": [
    "# Objet GridSearchCV\n",
    "grid_rf_class = GridSearchCV(estimator=RandomForestClassifier(random_state=seed), \n",
    "                             param_grid=param_grid_rf,\n",
    "                            scoring='f1',\n",
    "                            cv=5)"
   ]
  },
  {
   "cell_type": "code",
   "execution_count": 292,
   "metadata": {},
   "outputs": [],
   "source": [
    "# Entraînement de l'algorithme\n",
    "rf_model=grid_rf_class.fit(train_features, train_labels)"
   ]
  },
  {
   "cell_type": "code",
   "execution_count": 293,
   "metadata": {},
   "outputs": [
    {
     "name": "stdout",
     "output_type": "stream",
     "text": [
      "0.906\n",
      "RandomForestClassifier(n_estimators=500, random_state=1111)\n"
     ]
    }
   ],
   "source": [
    "# Meilleur score et meilleur hyperparamètre\n",
    "print(round(rf_model.best_score_, 3))\n",
    "print(rf_model.best_estimator_)"
   ]
  },
  {
   "cell_type": "code",
   "execution_count": 294,
   "metadata": {},
   "outputs": [
    {
     "name": "stdout",
     "output_type": "stream",
     "text": [
      "              precision    recall  f1-score   support\n",
      "\n",
      "           0       0.83      0.86      0.84      1032\n",
      "           1       0.57      0.53      0.55       374\n",
      "\n",
      "    accuracy                           0.77      1406\n",
      "   macro avg       0.70      0.69      0.70      1406\n",
      "weighted avg       0.76      0.77      0.77      1406\n",
      "\n"
     ]
    }
   ],
   "source": [
    "# Evaluation du modèle de forêt aléatoire\n",
    "model_evaluation(rf_model.best_estimator_, X_val, y_val)"
   ]
  },
  {
   "cell_type": "markdown",
   "metadata": {},
   "source": [
    "Comparé aux valeurs du modèle de régression logistique, le modèle de forêt aléatoire semble moins efficace.\n",
    "Appliquons une RFE."
   ]
  },
  {
   "cell_type": "code",
   "execution_count": 295,
   "metadata": {},
   "outputs": [
    {
     "name": "stdout",
     "output_type": "stream",
     "text": [
      "Index(['TotalCharges', 'tenure', 'MonthlyCharges', 'Contract_Two year',\n",
      "       'PaymentMethod_Electronic check', 'InternetService_Fiber optic',\n",
      "       'Contract_One year', 'gender', 'OnlineSecurity_Yes', 'PaperlessBilling',\n",
      "       'TechSupport_Yes', 'Partner', 'OnlineBackup_Yes',\n",
      "       'OnlineSecurity_No internet service'],\n",
      "      dtype='object')\n"
     ]
    },
    {
     "data": {
      "text/plain": [
       "RFE(estimator=RandomForestClassifier(n_estimators=500, random_state=1111))"
      ]
     },
     "execution_count": 295,
     "metadata": {},
     "output_type": "execute_result"
    }
   ],
   "source": [
    "# Random Forest avec RFE\n",
    "rfe_forest_model = model_with_rfe(rf_model.best_estimator_)\n",
    "rfe_forest_model"
   ]
  },
  {
   "cell_type": "code",
   "execution_count": 296,
   "metadata": {},
   "outputs": [
    {
     "name": "stdout",
     "output_type": "stream",
     "text": [
      "              precision    recall  f1-score   support\n",
      "\n",
      "           0       0.83      0.84      0.84      1032\n",
      "           1       0.55      0.54      0.55       374\n",
      "\n",
      "    accuracy                           0.76      1406\n",
      "   macro avg       0.69      0.69      0.69      1406\n",
      "weighted avg       0.76      0.76      0.76      1406\n",
      "\n"
     ]
    }
   ],
   "source": [
    "# Evaluation du modèle de forêt aléatoire avec RFE\n",
    "model_evaluation(rfe_forest_model, X_val, y_val)"
   ]
  },
  {
   "cell_type": "markdown",
   "metadata": {},
   "source": [
    "Au vu de ces valeurs, nous retiendrons le modèle de forêt aléatoire obtenu sans RFE.\n",
    "Passons à la construction d'un modele de reseau de neuronnes artificiel."
   ]
  },
  {
   "cell_type": "markdown",
   "metadata": {},
   "source": [
    "## Classification Perceptron multicouche"
   ]
  },
  {
   "cell_type": "code",
   "execution_count": 297,
   "metadata": {
    "scrolled": true
   },
   "outputs": [],
   "source": [
    "# MLPClassifier\n",
    "mlp = MLPClassifier(random_state=seed, max_iter = 1000)\n",
    "parameters = {'hidden_layer_sizes':[(50,), (100,), (200,)],\n",
    "              'activation':['identity', 'logistic', 'tanh', 'relu'],\n",
    "             'learning_rate':['constant', 'invscaling', 'adaptive']}\n",
    "mlp_cv = GridSearchCV(mlp, parameters, scoring='f1', cv=5, n_jobs=-1)"
   ]
  },
  {
   "cell_type": "code",
   "execution_count": 298,
   "metadata": {},
   "outputs": [
    {
     "data": {
      "text/plain": [
       "GridSearchCV(cv=5, estimator=MLPClassifier(max_iter=1000, random_state=1111),\n",
       "             n_jobs=-1,\n",
       "             param_grid={'activation': ['identity', 'logistic', 'tanh', 'relu'],\n",
       "                         'hidden_layer_sizes': [(50,), (100,), (200,)],\n",
       "                         'learning_rate': ['constant', 'invscaling',\n",
       "                                           'adaptive']},\n",
       "             scoring='f1')"
      ]
     },
     "execution_count": 298,
     "metadata": {},
     "output_type": "execute_result"
    }
   ],
   "source": [
    "# Entraînement de l'algorithme\n",
    "mlp_model=mlp_cv.fit(train_features, train_labels)\n",
    "mlp_model"
   ]
  },
  {
   "cell_type": "code",
   "execution_count": 299,
   "metadata": {},
   "outputs": [
    {
     "name": "stdout",
     "output_type": "stream",
     "text": [
      "0.862\n",
      "MLPClassifier(hidden_layer_sizes=(200,), max_iter=1000, random_state=1111)\n"
     ]
    }
   ],
   "source": [
    "# Meilleur score et meilleur hyperparamètre\n",
    "print(round(mlp_model.best_score_, 3))\n",
    "print(mlp_model.best_estimator_)"
   ]
  },
  {
   "cell_type": "code",
   "execution_count": 301,
   "metadata": {},
   "outputs": [
    {
     "name": "stdout",
     "output_type": "stream",
     "text": [
      "              precision    recall  f1-score   support\n",
      "\n",
      "           0       0.84      0.81      0.82      1032\n",
      "           1       0.51      0.57      0.54       374\n",
      "\n",
      "    accuracy                           0.74      1406\n",
      "   macro avg       0.68      0.69      0.68      1406\n",
      "weighted avg       0.75      0.74      0.75      1406\n",
      "\n"
     ]
    }
   ],
   "source": [
    "# Evaluation du modèle Perceptron\n",
    "model_evaluation(mlp_model, X_val, y_val)"
   ]
  },
  {
   "cell_type": "markdown",
   "metadata": {},
   "source": [
    "Passons maintenant à un modèle SVM (Support Vector Machine)."
   ]
  },
  {
   "cell_type": "markdown",
   "metadata": {},
   "source": [
    "## Support Vector Machine"
   ]
  },
  {
   "cell_type": "code",
   "execution_count": 306,
   "metadata": {},
   "outputs": [],
   "source": [
    "# Support Vector Machine : Classifieur qui trouve l'hyperplan optimal qui maximise la frontière entre 2 classes\n",
    "svm = SVC(random_state=seed)\n",
    "svm_hyp={'kernel':['linear', 'rbf'], 'C':[0.1, 1.0, 10, 50, 100]} \n",
    "svm_cv = GridSearchCV(svm, svm_hyp, scoring='f1', cv=5)"
   ]
  },
  {
   "cell_type": "code",
   "execution_count": 307,
   "metadata": {},
   "outputs": [
    {
     "data": {
      "text/plain": [
       "GridSearchCV(cv=5, estimator=SVC(random_state=1111),\n",
       "             param_grid={'C': [0.1, 1.0, 10, 50, 100],\n",
       "                         'kernel': ['linear', 'rbf']},\n",
       "             scoring='f1')"
      ]
     },
     "execution_count": 307,
     "metadata": {},
     "output_type": "execute_result"
    }
   ],
   "source": [
    "# Entraînement de l'algorithme\n",
    "svm_model=svm_cv.fit(train_features, train_labels)\n",
    "svm_model"
   ]
  },
  {
   "cell_type": "code",
   "execution_count": 308,
   "metadata": {},
   "outputs": [
    {
     "name": "stdout",
     "output_type": "stream",
     "text": [
      "0.855\n",
      "SVC(C=100, random_state=1111)\n"
     ]
    }
   ],
   "source": [
    "# Meilleur score et meilleur hyperparamètre\n",
    "print(round(svm_model.best_score_, 3))\n",
    "print(svm_model.best_estimator_)"
   ]
  },
  {
   "cell_type": "code",
   "execution_count": 309,
   "metadata": {
    "scrolled": true
   },
   "outputs": [
    {
     "name": "stdout",
     "output_type": "stream",
     "text": [
      "              precision    recall  f1-score   support\n",
      "\n",
      "           0       0.85      0.78      0.81      1032\n",
      "           1       0.50      0.61      0.55       374\n",
      "\n",
      "    accuracy                           0.73      1406\n",
      "   macro avg       0.67      0.69      0.68      1406\n",
      "weighted avg       0.75      0.73      0.74      1406\n",
      "\n"
     ]
    }
   ],
   "source": [
    "# Evaluation du modèle svm\n",
    "model_evaluation(svm_model, X_val, y_val)"
   ]
  },
  {
   "cell_type": "markdown",
   "metadata": {},
   "source": [
    "# Conclusion"
   ]
  },
  {
   "cell_type": "markdown",
   "metadata": {},
   "source": [
    "Nous avons utilisé les données d'évaluation pour sélectionner le meilleur modèle. Ensuite nous évaluons le meilleur modèle sélectionné sur les données de test afin d'apprécier sa performance sur de nouvelles données. Idéalement les performances de ce modèle sur les données d'évaluation et sur les données de test doivent être relativement proches."
   ]
  },
  {
   "cell_type": "code",
   "execution_count": 314,
   "metadata": {},
   "outputs": [
    {
     "name": "stdout",
     "output_type": "stream",
     "text": [
      "              precision    recall  f1-score   support\n",
      "\n",
      "           0       0.89      0.74      0.81      1032\n",
      "           1       0.51      0.74      0.61       374\n",
      "\n",
      "    accuracy                           0.74      1406\n",
      "   macro avg       0.70      0.74      0.71      1406\n",
      "weighted avg       0.79      0.74      0.75      1406\n",
      "\n"
     ]
    }
   ],
   "source": [
    "model_evaluation(logreg_model.best_estimator_, X_val, y_val)"
   ]
  },
  {
   "cell_type": "code",
   "execution_count": 313,
   "metadata": {},
   "outputs": [
    {
     "name": "stdout",
     "output_type": "stream",
     "text": [
      "              precision    recall  f1-score   support\n",
      "\n",
      "           0       0.90      0.76      0.83      1033\n",
      "           1       0.54      0.76      0.63       374\n",
      "\n",
      "    accuracy                           0.76      1407\n",
      "   macro avg       0.72      0.76      0.73      1407\n",
      "weighted avg       0.80      0.76      0.77      1407\n",
      "\n"
     ]
    }
   ],
   "source": [
    "# Performance du meilleur modèle sur les données de test\n",
    "model_evaluation(logreg_model.best_estimator_, X_test, y_test)"
   ]
  },
  {
   "cell_type": "code",
   "execution_count": null,
   "metadata": {},
   "outputs": [],
   "source": []
  }
 ],
 "metadata": {
  "accelerator": "GPU",
  "colab": {
   "provenance": []
  },
  "kernelspec": {
   "display_name": "Python 3 (ipykernel)",
   "language": "python",
   "name": "python3"
  },
  "language_info": {
   "codemirror_mode": {
    "name": "ipython",
    "version": 3
   },
   "file_extension": ".py",
   "mimetype": "text/x-python",
   "name": "python",
   "nbconvert_exporter": "python",
   "pygments_lexer": "ipython3",
   "version": "3.8.12"
  },
  "toc": {
   "base_numbering": 1,
   "nav_menu": {},
   "number_sections": true,
   "sideBar": true,
   "skip_h1_title": false,
   "title_cell": "Table of Contents",
   "title_sidebar": "Contents",
   "toc_cell": false,
   "toc_position": {},
   "toc_section_display": true,
   "toc_window_display": false
  },
  "widgets": {
   "application/vnd.jupyter.widget-state+json": {
    "2f37cb9440364df9a46541be225cd838": {
     "model_module": "@jupyter-widgets/controls",
     "model_module_version": "1.5.0",
     "model_name": "VBoxModel",
     "state": {
      "_dom_classes": [
       "widget-interact"
      ],
      "_model_module": "@jupyter-widgets/controls",
      "_model_module_version": "1.5.0",
      "_model_name": "VBoxModel",
      "_view_count": null,
      "_view_module": "@jupyter-widgets/controls",
      "_view_module_version": "1.5.0",
      "_view_name": "VBoxView",
      "box_style": "",
      "children": [
       "IPY_MODEL_a9a794850e134105bb743e6392834939",
       "IPY_MODEL_5eb006de3d994dcbaeabbb5fd4dd2a02"
      ],
      "layout": "IPY_MODEL_6ae8688044344e208b6f2cfcc6de7533"
     }
    },
    "5eb006de3d994dcbaeabbb5fd4dd2a02": {
     "model_module": "@jupyter-widgets/output",
     "model_module_version": "1.0.0",
     "model_name": "OutputModel",
     "state": {
      "_dom_classes": [],
      "_model_module": "@jupyter-widgets/output",
      "_model_module_version": "1.0.0",
      "_model_name": "OutputModel",
      "_view_count": null,
      "_view_module": "@jupyter-widgets/output",
      "_view_module_version": "1.0.0",
      "_view_name": "OutputView",
      "layout": "IPY_MODEL_e7f9d237ae0647079ec4d4789209029c",
      "msg_id": "",
      "outputs": [
       {
        "data": {
         "image/png": "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\n",
         "text/plain": "<Figure size 432x288 with 1 Axes>"
        },
        "metadata": {
         "needs_background": "light"
        },
        "output_type": "display_data"
       }
      ]
     }
    },
    "6ae8688044344e208b6f2cfcc6de7533": {
     "model_module": "@jupyter-widgets/base",
     "model_module_version": "1.2.0",
     "model_name": "LayoutModel",
     "state": {
      "_model_module": "@jupyter-widgets/base",
      "_model_module_version": "1.2.0",
      "_model_name": "LayoutModel",
      "_view_count": null,
      "_view_module": "@jupyter-widgets/base",
      "_view_module_version": "1.2.0",
      "_view_name": "LayoutView",
      "align_content": null,
      "align_items": null,
      "align_self": null,
      "border": null,
      "bottom": null,
      "display": null,
      "flex": null,
      "flex_flow": null,
      "grid_area": null,
      "grid_auto_columns": null,
      "grid_auto_flow": null,
      "grid_auto_rows": null,
      "grid_column": null,
      "grid_gap": null,
      "grid_row": null,
      "grid_template_areas": null,
      "grid_template_columns": null,
      "grid_template_rows": null,
      "height": null,
      "justify_content": null,
      "justify_items": null,
      "left": null,
      "margin": null,
      "max_height": null,
      "max_width": null,
      "min_height": null,
      "min_width": null,
      "object_fit": null,
      "object_position": null,
      "order": null,
      "overflow": null,
      "overflow_x": null,
      "overflow_y": null,
      "padding": null,
      "right": null,
      "top": null,
      "visibility": null,
      "width": null
     }
    },
    "8152bac0cea2451a96a89835e73d4907": {
     "model_module": "@jupyter-widgets/controls",
     "model_module_version": "1.5.0",
     "model_name": "DescriptionStyleModel",
     "state": {
      "_model_module": "@jupyter-widgets/controls",
      "_model_module_version": "1.5.0",
      "_model_name": "DescriptionStyleModel",
      "_view_count": null,
      "_view_module": "@jupyter-widgets/base",
      "_view_module_version": "1.2.0",
      "_view_name": "StyleView",
      "description_width": ""
     }
    },
    "9203d12d32274adebfe6a19cac2b0eda": {
     "model_module": "@jupyter-widgets/base",
     "model_module_version": "1.2.0",
     "model_name": "LayoutModel",
     "state": {
      "_model_module": "@jupyter-widgets/base",
      "_model_module_version": "1.2.0",
      "_model_name": "LayoutModel",
      "_view_count": null,
      "_view_module": "@jupyter-widgets/base",
      "_view_module_version": "1.2.0",
      "_view_name": "LayoutView",
      "align_content": null,
      "align_items": null,
      "align_self": null,
      "border": null,
      "bottom": null,
      "display": null,
      "flex": null,
      "flex_flow": null,
      "grid_area": null,
      "grid_auto_columns": null,
      "grid_auto_flow": null,
      "grid_auto_rows": null,
      "grid_column": null,
      "grid_gap": null,
      "grid_row": null,
      "grid_template_areas": null,
      "grid_template_columns": null,
      "grid_template_rows": null,
      "height": null,
      "justify_content": null,
      "justify_items": null,
      "left": null,
      "margin": null,
      "max_height": null,
      "max_width": null,
      "min_height": null,
      "min_width": null,
      "object_fit": null,
      "object_position": null,
      "order": null,
      "overflow": null,
      "overflow_x": null,
      "overflow_y": null,
      "padding": null,
      "right": null,
      "top": null,
      "visibility": null,
      "width": null
     }
    },
    "a9a794850e134105bb743e6392834939": {
     "model_module": "@jupyter-widgets/controls",
     "model_module_version": "1.5.0",
     "model_name": "DropdownModel",
     "state": {
      "_dom_classes": [],
      "_model_module": "@jupyter-widgets/controls",
      "_model_module_version": "1.5.0",
      "_model_name": "DropdownModel",
      "_options_labels": [
       "gender",
       "SeniorCitizen",
       "Partner",
       "Dependents",
       "PhoneService",
       "MultipleLines",
       "InternetService",
       "OnlineSecurity",
       "OnlineBackup",
       "DeviceProtection",
       "TechSupport",
       "StreamingTV",
       "StreamingMovies",
       "Contract",
       "PaperlessBilling",
       "PaymentMethod",
       "Churn"
      ],
      "_view_count": null,
      "_view_module": "@jupyter-widgets/controls",
      "_view_module_version": "1.5.0",
      "_view_name": "DropdownView",
      "description": "a",
      "description_tooltip": null,
      "disabled": false,
      "index": 0,
      "layout": "IPY_MODEL_9203d12d32274adebfe6a19cac2b0eda",
      "style": "IPY_MODEL_8152bac0cea2451a96a89835e73d4907"
     }
    },
    "e7f9d237ae0647079ec4d4789209029c": {
     "model_module": "@jupyter-widgets/base",
     "model_module_version": "1.2.0",
     "model_name": "LayoutModel",
     "state": {
      "_model_module": "@jupyter-widgets/base",
      "_model_module_version": "1.2.0",
      "_model_name": "LayoutModel",
      "_view_count": null,
      "_view_module": "@jupyter-widgets/base",
      "_view_module_version": "1.2.0",
      "_view_name": "LayoutView",
      "align_content": null,
      "align_items": null,
      "align_self": null,
      "border": null,
      "bottom": null,
      "display": null,
      "flex": null,
      "flex_flow": null,
      "grid_area": null,
      "grid_auto_columns": null,
      "grid_auto_flow": null,
      "grid_auto_rows": null,
      "grid_column": null,
      "grid_gap": null,
      "grid_row": null,
      "grid_template_areas": null,
      "grid_template_columns": null,
      "grid_template_rows": null,
      "height": null,
      "justify_content": null,
      "justify_items": null,
      "left": null,
      "margin": null,
      "max_height": null,
      "max_width": null,
      "min_height": null,
      "min_width": null,
      "object_fit": null,
      "object_position": null,
      "order": null,
      "overflow": null,
      "overflow_x": null,
      "overflow_y": null,
      "padding": null,
      "right": null,
      "top": null,
      "visibility": null,
      "width": null
     }
    }
   }
  }
 },
 "nbformat": 4,
 "nbformat_minor": 1
}
